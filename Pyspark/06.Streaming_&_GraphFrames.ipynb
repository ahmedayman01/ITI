{
 "cells": [
  {
   "cell_type": "markdown",
   "metadata": {
    "id": "8ot9hRpmlJng"
   },
   "source": [
    "Let's start our Practical Session 2 : \n"
   ]
  },
  {
   "cell_type": "markdown",
   "metadata": {
    "id": "PAnyLlde_z79"
   },
   "source": [
    "# Task 1"
   ]
  },
  {
   "cell_type": "markdown",
   "metadata": {
    "id": "Sh6hx08FlSdo"
   },
   "source": [
    "## Our first streaming using rate source\n"
   ]
  },
  {
   "cell_type": "markdown",
   "metadata": {
    "id": "S2urOc2TllZ9"
   },
   "source": [
    "### Initialization SparkSession"
   ]
  },
  {
   "cell_type": "code",
   "execution_count": 1,
   "metadata": {
    "id": "Xbwl2AEWmWOU"
   },
   "outputs": [],
   "source": [
    "import findspark\n",
    "findspark.init()\n",
    "import pyspark\n",
    "from pyspark.sql import SparkSession\n",
    "import logging\n",
    "import numpy\n",
    "from pyspark.sql.functions import *"
   ]
  },
  {
   "cell_type": "markdown",
   "metadata": {
    "id": "nWRYQiG4lVmY"
   },
   "source": [
    "### Let’s first import the required libraries.\n",
    "\n",
    "*   Pyspark functions \n",
    "*   Pyspark Types\n",
    "\n"
   ]
  },
  {
   "cell_type": "code",
   "execution_count": 2,
   "metadata": {
    "id": "TdKfWM6wX5AR"
   },
   "outputs": [
    {
     "name": "stderr",
     "output_type": "stream",
     "text": [
      "21/11/04 22:46:26 WARN Utils: Your hostname, ahmed-G3-3579 resolves to a loopback address: 127.0.1.1; using 192.168.1.9 instead (on interface wlo1)\n",
      "21/11/04 22:46:26 WARN Utils: Set SPARK_LOCAL_IP if you need to bind to another address\n",
      "WARNING: An illegal reflective access operation has occurred\n",
      "WARNING: Illegal reflective access by org.apache.spark.unsafe.Platform (file:/opt/spark/jars/spark-unsafe_2.12-3.0.3.jar) to constructor java.nio.DirectByteBuffer(long,int)\n",
      "WARNING: Please consider reporting this to the maintainers of org.apache.spark.unsafe.Platform\n",
      "WARNING: Use --illegal-access=warn to enable warnings of further illegal reflective access operations\n",
      "WARNING: All illegal access operations will be denied in a future release\n",
      "21/11/04 22:46:31 WARN NativeCodeLoader: Unable to load native-hadoop library for your platform... using builtin-java classes where applicable\n",
      "Using Spark's default log4j profile: org/apache/spark/log4j-defaults.properties\n",
      "Setting default log level to \"WARN\".\n",
      "To adjust logging level use sc.setLogLevel(newLevel). For SparkR, use setLogLevel(newLevel).\n"
     ]
    }
   ],
   "source": [
    "spark = SparkSession.builder \\\n",
    "    .appName(\"Read lines over a network stream\") \\\n",
    "    .master(\"local[*]\").getOrCreate()"
   ]
  },
  {
   "cell_type": "markdown",
   "metadata": {
    "id": "Ca_pWuzjmDny"
   },
   "source": [
    "### Create streaming DataFrame\n"
   ]
  },
  {
   "cell_type": "markdown",
   "metadata": {
    "id": "IzmzgW_jmGFD"
   },
   "source": [
    "Let’s create our first Spark Streaming DataFrame using \"rate\" format. Here we have specified the format as rate and specified rowsPerSecond = 1 to generate 1 row for each micro-batch and load the data into initDF streaming DataFrame. "
   ]
  },
  {
   "cell_type": "code",
   "execution_count": 4,
   "metadata": {
    "id": "4Dw7jGxfmEQ_"
   },
   "outputs": [],
   "source": [
    "df = spark.readStream.format(\"rate\") \\\n",
    "    .option('rowsPerSecond',1)\\\n",
    "    .load()"
   ]
  },
  {
   "cell_type": "markdown",
   "metadata": {
    "id": "BKdqQ8CHnq6f"
   },
   "source": [
    "### Check if DataFrame is streaming or Not.\n"
   ]
  },
  {
   "cell_type": "code",
   "execution_count": 5,
   "metadata": {
    "id": "KALJWO0wntfd"
   },
   "outputs": [
    {
     "data": {
      "text/plain": [
       "True"
      ]
     },
     "execution_count": 5,
     "metadata": {},
     "output_type": "execute_result"
    }
   ],
   "source": [
    "df.isStreaming"
   ]
  },
  {
   "cell_type": "markdown",
   "metadata": {
    "id": "A2xh22Lpm6zW"
   },
   "source": [
    "### Transformation"
   ]
  },
  {
   "cell_type": "markdown",
   "metadata": {
    "id": "2QkkiQ0nnYls"
   },
   "source": [
    "Perform transformation on initDF to generate another column result by just adding 1 to column value :\n"
   ]
  },
  {
   "cell_type": "markdown",
   "metadata": {
    "id": "3KpP4qvjneBq"
   },
   "source": [
    "### Output"
   ]
  },
  {
   "cell_type": "code",
   "execution_count": 6,
   "metadata": {},
   "outputs": [],
   "source": [
    "df = df.withColumn('plus', col('value') + lit(1))"
   ]
  },
  {
   "cell_type": "markdown",
   "metadata": {
    "id": "vAbgL0-xoQ7J"
   },
   "source": [
    "### Our Second streaming using rate source"
   ]
  },
  {
   "cell_type": "markdown",
   "metadata": {
    "id": "UEnnw_NZnkr2"
   },
   "source": [
    "### Create Streaming DataFrame"
   ]
  },
  {
   "cell_type": "markdown",
   "metadata": {
    "id": "qeYZDjzOoYEV"
   },
   "source": [
    "### Create Streaming DataFrame using socket source. Also, check if DataFrame isStreaming.\n"
   ]
  },
  {
   "cell_type": "code",
   "execution_count": 7,
   "metadata": {
    "id": "i3v9DFAamz1O"
   },
   "outputs": [
    {
     "name": "stderr",
     "output_type": "stream",
     "text": [
      "21/11/02 17:42:40 WARN TextSocketSourceProvider: The socket source should not be used for production applications! It does not support recovery.\n"
     ]
    }
   ],
   "source": [
    "from pyspark.sql.functions import *\n",
    "lines = (spark\n",
    "         .readStream.format(\"socket\")\n",
    "         .option(\"host\", \"localhost\")\n",
    "         .option(\"port\", 12345)\n",
    "         .load())"
   ]
  },
  {
   "cell_type": "code",
   "execution_count": 8,
   "metadata": {},
   "outputs": [
    {
     "data": {
      "text/plain": [
       "True"
      ]
     },
     "execution_count": 8,
     "metadata": {},
     "output_type": "execute_result"
    }
   ],
   "source": [
    "lines.isStreaming"
   ]
  },
  {
   "cell_type": "markdown",
   "metadata": {
    "id": "nOECv_GvopHl"
   },
   "source": [
    "### Transformation: Word Count\n"
   ]
  },
  {
   "cell_type": "markdown",
   "metadata": {
    "id": "57X_B5sQotgr"
   },
   "source": [
    "Here we count words from a stream of data coming from this socket. Also, we check the schema of our streaming DataFrame.\n"
   ]
  },
  {
   "cell_type": "code",
   "execution_count": 7,
   "metadata": {},
   "outputs": [],
   "source": [
    "words = lines.select(explode(split(lines.value, \" \")).alias(\"word\"))\n",
    "wordCounts = words.groupBy(\"word\").count()"
   ]
  },
  {
   "cell_type": "code",
   "execution_count": null,
   "metadata": {},
   "outputs": [
    {
     "name": "stderr",
     "output_type": "stream",
     "text": [
      "21/11/02 17:26:08 WARN StreamingQueryManager: Temporary checkpoint location created which is deleted normally when the query didn't fail: /tmp/temporary-dba64266-3267-4c78-8c77-0dbfcef5d84f. If it's required to delete it under any circumstances, please set spark.sql.streaming.forceDeleteTempCheckpointLocation to true. Important to know deleting temp checkpoint folder is best effort.\n",
      "                                                                                \r"
     ]
    },
    {
     "name": "stdout",
     "output_type": "stream",
     "text": [
      "-------------------------------------------\n",
      "Batch: 0\n",
      "-------------------------------------------\n",
      "+----+-----+\n",
      "|word|count|\n",
      "+----+-----+\n",
      "+----+-----+\n",
      "\n"
     ]
    },
    {
     "name": "stderr",
     "output_type": "stream",
     "text": [
      "                                                                                \r"
     ]
    },
    {
     "name": "stdout",
     "output_type": "stream",
     "text": [
      "-------------------------------------------\n",
      "Batch: 1\n",
      "-------------------------------------------\n",
      "+-----+-----+\n",
      "| word|count|\n",
      "+-----+-----+\n",
      "|hello|    1|\n",
      "+-----+-----+\n",
      "\n"
     ]
    },
    {
     "name": "stderr",
     "output_type": "stream",
     "text": [
      "                                                                                \r"
     ]
    },
    {
     "name": "stdout",
     "output_type": "stream",
     "text": [
      "-------------------------------------------\n",
      "Batch: 2\n",
      "-------------------------------------------\n",
      "+-----+-----+\n",
      "| word|count|\n",
      "+-----+-----+\n",
      "|hello|    1|\n",
      "| test|    2|\n",
      "+-----+-----+\n",
      "\n"
     ]
    },
    {
     "name": "stderr",
     "output_type": "stream",
     "text": [
      "                                                                                \r"
     ]
    },
    {
     "name": "stdout",
     "output_type": "stream",
     "text": [
      "-------------------------------------------\n",
      "Batch: 3\n",
      "-------------------------------------------\n",
      "+---------+-----+\n",
      "|     word|count|\n",
      "+---------+-----+\n",
      "|      one|    1|\n",
      "|    hello|    1|\n",
      "|      any|    1|\n",
      "|listining|    1|\n",
      "|     test|    2|\n",
      "+---------+-----+\n",
      "\n"
     ]
    }
   ],
   "source": [
    "streamingQuery = (wordCounts.writeStream\n",
    "                  .format(\"console\")\n",
    "                  .outputMode(\"complete\")\n",
    "                  .start())\n",
    "streamingQuery.awaitTermination()"
   ]
  },
  {
   "cell_type": "markdown",
   "metadata": {
    "id": "IUzovg9IpKZJ"
   },
   "source": [
    "#### to check nc -lk 9999\n"
   ]
  },
  {
   "cell_type": "markdown",
   "metadata": {
    "id": "N2wxQiPEpR2D"
   },
   "source": [
    "### Input Sources — File"
   ]
  },
  {
   "cell_type": "markdown",
   "metadata": {
    "id": "V6DWaPp4pVoM"
   },
   "source": [
    "Schema Our data contains the fields Date,Open,High,Low,Close,Adj Close,Volume and we will extract Name from the filename using a custom function.\n",
    "Here we define the schema and write a custom function to extract the stock ticker symbol."
   ]
  },
  {
   "cell_type": "code",
   "execution_count": 3,
   "metadata": {
    "id": "y-BVyjJzpbxR"
   },
   "outputs": [],
   "source": [
    "from pyspark.sql.types import (StructType, StructField,\n",
    "                               StringType, IntegerType,TimestampType,FloatType)\n",
    "\n",
    "\n",
    "recordSchema = StructType([StructField('Date', TimestampType(), True),\n",
    "                           StructField('Open', FloatType(), True),\n",
    "                           StructField('High', FloatType(), True),\n",
    "                           StructField('Low', FloatType(), True),\n",
    "                           StructField('Close', FloatType(), True),\n",
    "                           StructField('Volume', FloatType(), True),\n",
    "                           StructField('Name', StringType(), True)])\n",
    "\n",
    "df = spark.readStream.format(\"csv\") \\\n",
    "    .option('header', 'true') \\\n",
    "    .schema(recordSchema) \\\n",
    "    .load(\"/home/ahmed/spark/\")"
   ]
  },
  {
   "cell_type": "markdown",
   "metadata": {
    "id": "loD4ivVrpvnp"
   },
   "source": [
    "#### Create Streaming DataFrame\n"
   ]
  },
  {
   "cell_type": "markdown",
   "metadata": {
    "id": "Zhu_Q7IZp5nJ"
   },
   "source": [
    "Create a streaming DataFrame to read csv data from a specified directory \"data/stream\" and apply the above schema . We also specify the param maxFilesPerTrigger = 2 , which means our application will process a maximum of 2 CSV files in each batch. At the end, we create another column called Name using the function getFileName. That column contains stock ticker symbols like GOOGL, AMZN, AAPL etc."
   ]
  },
  {
   "cell_type": "code",
   "execution_count": 5,
   "metadata": {},
   "outputs": [],
   "source": [
    "tdf = df\\\n",
    ".groupBy(col(\"Name\"), year(col(\"Date\")))\\\n",
    ".agg(max(\"High\"))"
   ]
  },
  {
   "cell_type": "markdown",
   "metadata": {
    "id": "nfm0c5kpqLNY"
   },
   "source": [
    "#### Transformation"
   ]
  },
  {
   "cell_type": "markdown",
   "metadata": {
    "id": "S5uOfYdGqNyp"
   },
   "source": [
    "Group the data based on stock Name, Year and find the maximum value of the HIGH column."
   ]
  },
  {
   "cell_type": "code",
   "execution_count": 6,
   "metadata": {
    "id": "wJgXOeqAqMYA"
   },
   "outputs": [],
   "source": [
    "tdf = df\\\n",
    ".groupBy(col(\"Name\"), year(col(\"Date\")))\\\n",
    ".agg(max(\"High\"))"
   ]
  },
  {
   "cell_type": "markdown",
   "metadata": {
    "id": "U4IHZf_zqoqD"
   },
   "source": [
    "Can you build same transformation by Sql? "
   ]
  },
  {
   "cell_type": "code",
   "execution_count": 7,
   "metadata": {
    "id": "kAoJNTAwqxPu"
   },
   "outputs": [],
   "source": [
    "df.createOrReplaceTempView(\"temp\")\n",
    "sdf = spark.sql(\"\"\"SELECT year(Date) AS Year, Name, max(High) \n",
    "          FROM temp \n",
    "          GROUP BY Name, Year\"\"\")"
   ]
  },
  {
   "cell_type": "markdown",
   "metadata": {
    "id": "WjguOCC2q32Q"
   },
   "source": [
    "#### Output\n",
    "Print the contents of streaming DatFrame to console using update mode.\n",
    "\n",
    "\n"
   ]
  },
  {
   "cell_type": "markdown",
   "metadata": {
    "id": "rAGBN3rEsIW5"
   },
   "source": [
    "Work with any dataset from data file "
   ]
  },
  {
   "cell_type": "code",
   "execution_count": 8,
   "metadata": {
    "id": "AtZ8CJTIrBgj"
   },
   "outputs": [],
   "source": [
    "w = tdf.writeStream\\\n",
    ".outputMode(\"update\")\\\n",
    ".format(\"console\")"
   ]
  },
  {
   "cell_type": "code",
   "execution_count": null,
   "metadata": {},
   "outputs": [
    {
     "name": "stderr",
     "output_type": "stream",
     "text": [
      "21/11/04 22:41:35 WARN StreamingQueryManager: Temporary checkpoint location created which is deleted normally when the query didn't fail: /tmp/temporary-b7c29772-4cdc-4d9e-8390-2b317cf6aa45. If it's required to delete it under any circumstances, please set spark.sql.streaming.forceDeleteTempCheckpointLocation to true. Important to know deleting temp checkpoint folder is best effort.\n",
      "                                                                                \r"
     ]
    },
    {
     "name": "stdout",
     "output_type": "stream",
     "text": [
      "-------------------------------------------\n",
      "Batch: 0\n",
      "-------------------------------------------\n",
      "+----+----------+---------+\n",
      "|Name|year(Date)|max(High)|\n",
      "+----+----------+---------+\n",
      "|AABA|      2015|    50.78|\n",
      "|AABA|      2008|    30.25|\n",
      "|AABA|      2006|    43.66|\n",
      "|AABA|      2014|    52.62|\n",
      "|AABA|      2007|    34.08|\n",
      "|AABA|      2011|    18.84|\n",
      "|AABA|      2013|    41.05|\n",
      "|AABA|      2010|    19.12|\n",
      "|AABA|      2012|    19.97|\n",
      "|AABA|      2017|    73.25|\n",
      "|AABA|      2016|    44.92|\n",
      "|AABA|      2009|    18.02|\n",
      "+----+----------+---------+\n",
      "\n"
     ]
    },
    {
     "name": "stderr",
     "output_type": "stream",
     "text": [
      "                                                                                \r"
     ]
    },
    {
     "name": "stdout",
     "output_type": "stream",
     "text": [
      "-------------------------------------------\n",
      "Batch: 1\n",
      "-------------------------------------------\n",
      "+----+----------+---------+\n",
      "|Name|year(Date)|max(High)|\n",
      "+----+----------+---------+\n",
      "| JNJ|      2015|    106.5|\n",
      "| JNJ|      2017|   144.35|\n",
      "| JNJ|      2007|    68.75|\n",
      "| JNJ|      2012|    72.74|\n",
      "| JNJ|      2010|     66.2|\n",
      "| JNJ|      2006|    69.41|\n",
      "| JNJ|      2013|    95.99|\n",
      "| JNJ|      2009|    65.41|\n",
      "| JNJ|      2008|    72.76|\n",
      "| JNJ|      2011|    68.05|\n",
      "| JNJ|      2014|   109.49|\n",
      "| JNJ|      2016|   126.07|\n",
      "+----+----------+---------+\n",
      "\n"
     ]
    }
   ],
   "source": [
    "query3 = w.start()\n",
    "query3.awaitTermination()"
   ]
  },
  {
   "cell_type": "markdown",
   "metadata": {
    "id": "AlhM-OuG_7xY"
   },
   "source": [
    "# Task 2"
   ]
  },
  {
   "cell_type": "markdown",
   "metadata": {
    "id": "oortUMnszuwL"
   },
   "source": [
    "### Some aggregations transformation\n",
    "Select \"Name\",\"Date\", \"Open\", \"High\", \"Low\" and group by Name and Date and get the avg and use WithColumn to get current_timestamp \n"
   ]
  },
  {
   "cell_type": "code",
   "execution_count": 5,
   "metadata": {
    "id": "nP8aATEazs3Z"
   },
   "outputs": [],
   "source": [
    "agdf = df.select(\"Name\", \"Date\", \"Open\", \"High\", \"Low\")\\\n",
    ".groupBy(col(\"Name\"), year(col(\"Date\")))\\\n",
    ".agg(avg(\"High\"))\\\n",
    ".withColumn(\"TimestampCol\", current_timestamp())"
   ]
  },
  {
   "cell_type": "markdown",
   "metadata": {
    "id": "D6C7sdl-yEzp"
   },
   "source": [
    "### Checkpoints"
   ]
  },
  {
   "cell_type": "code",
   "execution_count": 7,
   "metadata": {
    "id": "AP-xKSlM_dQB"
   },
   "outputs": [],
   "source": [
    "w2 = agdf.writeStream\\\n",
    ".outputMode(\"complete\")\\\n",
    ".option(\"checkpointLocation\", \"chkpoint\")\\\n",
    ".format(\"console\")"
   ]
  },
  {
   "cell_type": "code",
   "execution_count": null,
   "metadata": {},
   "outputs": [
    {
     "name": "stderr",
     "output_type": "stream",
     "text": [
      "                                                                                \r"
     ]
    },
    {
     "name": "stdout",
     "output_type": "stream",
     "text": [
      "-------------------------------------------\n",
      "Batch: 0\n",
      "-------------------------------------------\n",
      "+----+----------+------------------+--------------------+\n",
      "|Name|year(Date)|         avg(High)|        TimestampCol|\n",
      "+----+----------+------------------+--------------------+\n",
      "| JNJ|      2015|100.40091278439476|2021-11-04 22:44:...|\n",
      "| JNJ|      2017|  130.399362115746|2021-11-04 22:44:...|\n",
      "| JNJ|      2007| 64.36338642013975|2021-11-04 22:44:...|\n",
      "| JNJ|      2012| 67.24223986816406|2021-11-04 22:44:...|\n",
      "| JNJ|      2010| 62.51027759673104|2021-11-04 22:44:...|\n",
      "|AABA|      2015| 39.45888887132917|2021-11-04 22:44:...|\n",
      "|AABA|      2008| 21.59841895951584|2021-11-04 22:44:...|\n",
      "|AABA|      2006|30.400278904523507|2021-11-04 22:44:...|\n",
      "|AABA|      2014|39.924484146965874|2021-11-04 22:44:...|\n",
      "|AABA|      2007|27.940836651866654|2021-11-04 22:44:...|\n",
      "|AABA|      2011|15.831190453635323|2021-11-04 22:44:...|\n",
      "| JNJ|      2006| 62.52820717860978|2021-11-04 22:44:...|\n",
      "| JNJ|      2013| 86.19103150140671|2021-11-04 22:44:...|\n",
      "|AABA|      2013|28.047817457289923|2021-11-04 22:44:...|\n",
      "|AABA|      2010|15.779123511447375|2021-11-04 22:44:...|\n",
      "| JNJ|      2009| 58.24261904519702|2021-11-04 22:44:...|\n",
      "| JNJ|      2008|   65.623596839754|2021-11-04 22:44:...|\n",
      "|AABA|      2012|16.136359996795655|2021-11-04 22:44:...|\n",
      "|AABA|      2017| 56.96402378766185|2021-11-04 22:44:...|\n",
      "| JNJ|      2011|63.948690520392525|2021-11-04 22:44:...|\n",
      "+----+----------+------------------+--------------------+\n",
      "only showing top 20 rows\n",
      "\n"
     ]
    },
    {
     "name": "stderr",
     "output_type": "stream",
     "text": [
      "                                                                                \r"
     ]
    },
    {
     "name": "stdout",
     "output_type": "stream",
     "text": [
      "-------------------------------------------\n",
      "Batch: 1\n",
      "-------------------------------------------\n",
      "+----+----------+------------------+--------------------+\n",
      "|Name|year(Date)|         avg(High)|        TimestampCol|\n",
      "+----+----------+------------------+--------------------+\n",
      "| JNJ|      2015|100.40091278439476|2021-11-04 22:46:...|\n",
      "| JNJ|      2017|  130.399362115746|2021-11-04 22:46:...|\n",
      "| JNJ|      2007| 64.36338642013975|2021-11-04 22:46:...|\n",
      "| JNJ|      2012| 67.24223986816406|2021-11-04 22:46:...|\n",
      "| JNJ|      2010| 62.51027759673104|2021-11-04 22:46:...|\n",
      "| MMM|      2009| 64.61027770572238|2021-11-04 22:46:...|\n",
      "|AABA|      2015| 39.45888887132917|2021-11-04 22:46:...|\n",
      "| MMM|      2015|157.40460289849176|2021-11-04 22:46:...|\n",
      "|AABA|      2008| 21.59841895951584|2021-11-04 22:46:...|\n",
      "|AABA|      2006|30.400278904523507|2021-11-04 22:46:...|\n",
      "|AABA|      2014|39.924484146965874|2021-11-04 22:46:...|\n",
      "| MMM|      2007| 84.65342645531156|2021-11-04 22:46:...|\n",
      "|AABA|      2007|27.940836651866654|2021-11-04 22:46:...|\n",
      "|AABA|      2011|15.831190453635323|2021-11-04 22:46:...|\n",
      "| JNJ|      2006| 62.52820717860978|2021-11-04 22:46:...|\n",
      "| JNJ|      2013| 86.19103150140671|2021-11-04 22:46:...|\n",
      "|AABA|      2013|28.047817457289923|2021-11-04 22:46:...|\n",
      "|AABA|      2010|15.779123511447375|2021-11-04 22:46:...|\n",
      "| MMM|      2014|143.55785739232624|2021-11-04 22:46:...|\n",
      "| MMM|      2012| 89.61447988891601|2021-11-04 22:46:...|\n",
      "+----+----------+------------------+--------------------+\n",
      "only showing top 20 rows\n",
      "\n"
     ]
    }
   ],
   "source": [
    "query4 = w2.start()\n",
    "query4.awaitTermination()"
   ]
  },
  {
   "cell_type": "markdown",
   "metadata": {
    "id": "-hqfu3AG_-VO"
   },
   "source": [
    "# Task 3"
   ]
  },
  {
   "cell_type": "markdown",
   "metadata": {
    "id": "m_v5Y6PNzKQ5"
   },
   "source": [
    "### One-time micro-batch\n",
    "With a once trigger, our query will execute a single micro-batch. It will process all available data and then stop the application. This trigger is useful when you would like to spin-up a cluster periodically, \n",
    "Execute our streaming application with the once trigger."
   ]
  },
  {
   "cell_type": "code",
   "execution_count": 6,
   "metadata": {
    "id": "xt-YBY6Tzk9r"
   },
   "outputs": [],
   "source": [
    "w3 = agdf.writeStream\\\n",
    ".outputMode(\"complete\")\\\n",
    ".trigger(once=True)\\\n",
    ".format(\"console\")"
   ]
  },
  {
   "cell_type": "code",
   "execution_count": 7,
   "metadata": {},
   "outputs": [
    {
     "name": "stderr",
     "output_type": "stream",
     "text": [
      "21/11/04 22:47:56 WARN StreamingQueryManager: Temporary checkpoint location created which is deleted normally when the query didn't fail: /tmp/temporary-80ff5272-b248-4ed5-b4f4-be55c159ddaa. If it's required to delete it under any circumstances, please set spark.sql.streaming.forceDeleteTempCheckpointLocation to true. Important to know deleting temp checkpoint folder is best effort.\n",
      "                                                                                \r"
     ]
    },
    {
     "name": "stdout",
     "output_type": "stream",
     "text": [
      "-------------------------------------------\n",
      "Batch: 0\n",
      "-------------------------------------------\n",
      "+----+----------+------------------+--------------------+\n",
      "|Name|year(Date)|         avg(High)|        TimestampCol|\n",
      "+----+----------+------------------+--------------------+\n",
      "| JNJ|      2015|100.40091278439476|2021-11-04 22:47:...|\n",
      "| JNJ|      2017|  130.399362115746|2021-11-04 22:47:...|\n",
      "| JNJ|      2007| 64.36338642013975|2021-11-04 22:47:...|\n",
      "| JNJ|      2012| 67.24223986816406|2021-11-04 22:47:...|\n",
      "| JNJ|      2010| 62.51027759673104|2021-11-04 22:47:...|\n",
      "| MMM|      2009| 64.61027770572238|2021-11-04 22:47:...|\n",
      "|AABA|      2015| 39.45888887132917|2021-11-04 22:47:...|\n",
      "| MMM|      2015|157.40460289849176|2021-11-04 22:47:...|\n",
      "|AABA|      2008| 21.59841895951584|2021-11-04 22:47:...|\n",
      "|AABA|      2006|30.400278904523507|2021-11-04 22:47:...|\n",
      "|AABA|      2014|39.924484146965874|2021-11-04 22:47:...|\n",
      "| MMM|      2007| 84.65342645531156|2021-11-04 22:47:...|\n",
      "|AABA|      2007|27.940836651866654|2021-11-04 22:47:...|\n",
      "|AABA|      2011|15.831190453635323|2021-11-04 22:47:...|\n",
      "| JNJ|      2006| 62.52820717860978|2021-11-04 22:47:...|\n",
      "| JNJ|      2013| 86.19103150140671|2021-11-04 22:47:...|\n",
      "|AABA|      2013|28.047817457289923|2021-11-04 22:47:...|\n",
      "|AABA|      2010|15.779123511447375|2021-11-04 22:47:...|\n",
      "| MMM|      2014|143.55785739232624|2021-11-04 22:47:...|\n",
      "| MMM|      2012| 89.61447988891601|2021-11-04 22:47:...|\n",
      "+----+----------+------------------+--------------------+\n",
      "only showing top 20 rows\n",
      "\n"
     ]
    }
   ],
   "source": [
    "query5 = w3.start()\n",
    "query5.awaitTermination()"
   ]
  },
  {
   "cell_type": "markdown",
   "metadata": {
    "id": "VHYp8TzA75Bg"
   },
   "source": [
    "### Users can create GraphFrames from vertex and edge DataFrames.\n",
    "\n",
    "* Vertex DataFrame: A vertex DataFrame should contain a special column named “id” which specifies unique IDs for each vertex in the graph.\n",
    "* Edge DataFrame: An edge DataFrame should contain two special columns: “src” (source vertex ID of edge) and “dst” (destination vertex ID of edge)."
   ]
  },
  {
   "cell_type": "markdown",
   "metadata": {
    "id": "VTp6vuzq68Qy"
   },
   "source": [
    "![image.png](data:image/png;base64,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)"
   ]
  },
  {
   "cell_type": "markdown",
   "metadata": {
    "id": "68wmlmu57HVs"
   },
   "source": [
    "![image.png](data:image/png;base64,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)"
   ]
  },
  {
   "cell_type": "code",
   "execution_count": 8,
   "metadata": {
    "id": "cspBFLMq1z49"
   },
   "outputs": [],
   "source": [
    "v = spark.createDataFrame([\n",
    "  (\"a\", \"Alice\", 34),\n",
    "  (\"b\", \"Bob\", 36),\n",
    "  (\"c\", \"Charlie\", 30),\n",
    "  (\"d\", \"David\", 29),\n",
    "  (\"e\", \"Esther\", 32),\n",
    "  (\"f\", \"Fanny\", 36)\n",
    "], [\"id\", \"name\", \"age\"])\n",
    "\n",
    "\n",
    "\n",
    "e = spark.createDataFrame([\n",
    "  (\"a\", \"e\", \"friend\"),\n",
    "  (\"f\", \"b\", \"follow\"),\n",
    "  (\"c\", \"e\", \"friend\"),\n",
    "  (\"a\", \"b\", \"friend\"),\n",
    "  (\"b\", \"c\", \"follow\"),\n",
    "  (\"c\", \"b\", \"follow\"),\n",
    "  (\"f\", \"c\", \"follow\"),\n",
    "  (\"e\", \"f\", \"follow\"),\n",
    "  (\"e\", \"d\", \"friend\"),\n",
    "  (\"d\", \"a\", \"friend\")\n",
    "], [\"src\", \"dst\", \"relationship\"])"
   ]
  },
  {
   "cell_type": "markdown",
   "metadata": {
    "id": "LTX7hdXW8KbS"
   },
   "source": [
    "### Create a GraphFrame from vertex and edge DataFrames"
   ]
  },
  {
   "cell_type": "code",
   "execution_count": 9,
   "metadata": {
    "id": "FbhTvK007S4B"
   },
   "outputs": [],
   "source": [
    "sc = spark.sparkContext\n",
    "sc.addPyFile('/opt/spark/jars/graphframes-0.8.1-spark3.0-s_2.12.jar')"
   ]
  },
  {
   "cell_type": "markdown",
   "metadata": {
    "id": "P7hjrY2C7SNp"
   },
   "source": [
    "### Take a look at the DataFrames"
   ]
  },
  {
   "cell_type": "markdown",
   "metadata": {
    "id": "JxmGzu8-7YAz"
   },
   "source": [
    "Get vertices, edges, and check the number of edges of each vertex"
   ]
  },
  {
   "cell_type": "code",
   "execution_count": 10,
   "metadata": {
    "id": "mHGeR4w38Hxp"
   },
   "outputs": [],
   "source": [
    "from graphframes import *"
   ]
  },
  {
   "cell_type": "code",
   "execution_count": 11,
   "metadata": {},
   "outputs": [],
   "source": [
    "g = GraphFrame(v, e)"
   ]
  },
  {
   "cell_type": "code",
   "execution_count": 12,
   "metadata": {},
   "outputs": [
    {
     "name": "stderr",
     "output_type": "stream",
     "text": [
      "                                                                                \r"
     ]
    },
    {
     "name": "stdout",
     "output_type": "stream",
     "text": [
      "+---+-------+---+\n",
      "| id|   name|age|\n",
      "+---+-------+---+\n",
      "|  a|  Alice| 34|\n",
      "|  b|    Bob| 36|\n",
      "|  c|Charlie| 30|\n",
      "|  d|  David| 29|\n",
      "|  e| Esther| 32|\n",
      "|  f|  Fanny| 36|\n",
      "+---+-------+---+\n",
      "\n"
     ]
    }
   ],
   "source": [
    "g.vertices.show()"
   ]
  },
  {
   "cell_type": "code",
   "execution_count": 13,
   "metadata": {},
   "outputs": [
    {
     "name": "stdout",
     "output_type": "stream",
     "text": [
      "+---+---+------------+\n",
      "|src|dst|relationship|\n",
      "+---+---+------------+\n",
      "|  a|  e|      friend|\n",
      "|  f|  b|      follow|\n",
      "|  c|  e|      friend|\n",
      "|  a|  b|      friend|\n",
      "|  b|  c|      follow|\n",
      "|  c|  b|      follow|\n",
      "|  f|  c|      follow|\n",
      "|  e|  f|      follow|\n",
      "|  e|  d|      friend|\n",
      "|  d|  a|      friend|\n",
      "+---+---+------------+\n",
      "\n"
     ]
    }
   ],
   "source": [
    "g.edges.show()"
   ]
  },
  {
   "cell_type": "code",
   "execution_count": 14,
   "metadata": {},
   "outputs": [
    {
     "name": "stdout",
     "output_type": "stream",
     "text": [
      "+---+------+\n",
      "| id|degree|\n",
      "+---+------+\n",
      "|  f|     3|\n",
      "|  e|     4|\n",
      "|  d|     2|\n",
      "|  c|     4|\n",
      "|  b|     4|\n",
      "|  a|     3|\n",
      "+---+------+\n",
      "\n"
     ]
    }
   ],
   "source": [
    "g.degrees.show()"
   ]
  },
  {
   "cell_type": "code",
   "execution_count": 15,
   "metadata": {},
   "outputs": [
    {
     "name": "stdout",
     "output_type": "stream",
     "text": [
      "+---+--------+\n",
      "| id|inDegree|\n",
      "+---+--------+\n",
      "|  f|       1|\n",
      "|  e|       2|\n",
      "|  d|       1|\n",
      "|  c|       2|\n",
      "|  b|       3|\n",
      "|  a|       1|\n",
      "+---+--------+\n",
      "\n",
      "+---+---------+\n",
      "| id|outDegree|\n",
      "+---+---------+\n",
      "|  f|        2|\n",
      "|  e|        2|\n",
      "|  d|        1|\n",
      "|  c|        2|\n",
      "|  b|        1|\n",
      "|  a|        2|\n",
      "+---+---------+\n",
      "\n"
     ]
    }
   ],
   "source": [
    "g.inDegrees.show()\n",
    "g.outDegrees.show()"
   ]
  },
  {
   "cell_type": "code",
   "execution_count": 32,
   "metadata": {},
   "outputs": [],
   "source": [
    "import networkx as nx\n",
    "import matplotlib.pyplot as plt\n",
    "\n",
    "def PlotGraph(edge_list):\n",
    "    Gplot=nx.MultiDiGraph()\n",
    "    for row in edge_list.select('src','dst').take(1000):\n",
    "        Gplot.add_edge(row['src'],row['dst'])\n",
    "\n",
    "    pos=nx.circular_layout(Gplot)\n",
    "    plt.figure(figsize=(40,10))\n",
    "    plt.subplot(121)\n",
    "    nx.draw_networkx(Gplot,pos,node_size=1000,edgelist=[],font_size=20,linewidths=15)\n",
    "    nx.draw_networkx_edges(Gplot, pos, connectionstyle='arc3,rad=0.2',alpha=0.8,arrowstyle='->,head_length=0.6, head_width=0.15',width=2,arrowsize=70)"
   ]
  },
  {
   "cell_type": "code",
   "execution_count": 33,
   "metadata": {},
   "outputs": [
    {
     "data": {
      "image/png": "[encoded data removed]",
      "text/plain": [
       "<Figure size 2880x720 with 1 Axes>"
      ]
     },
     "metadata": {},
     "output_type": "display_data"
    }
   ],
   "source": [
    "PlotGraph(g.edges)"
   ]
  },
  {
   "cell_type": "markdown",
   "metadata": {
    "id": "uSGiHUSw8XhW"
   },
   "source": [
    "## Create UDF Functions \n",
    "convert your graph by mapping a function over the edges DataFrame that deletes the row if src ≥ dst return \"Delete\" else \"Keep\""
   ]
  },
  {
   "cell_type": "code",
   "execution_count": 17,
   "metadata": {
    "id": "KaR-YHVh2Agm"
   },
   "outputs": [],
   "source": [
    "from pyspark.sql.functions import udf"
   ]
  },
  {
   "cell_type": "code",
   "execution_count": 18,
   "metadata": {},
   "outputs": [],
   "source": [
    "@udf(returnType=StringType())\n",
    "def deleteOrKeep(src, dst):\n",
    "    if src >= dst:\n",
    "        return 'Delete'\n",
    "    else : \n",
    "        return 'Keep'"
   ]
  },
  {
   "cell_type": "code",
   "execution_count": 19,
   "metadata": {},
   "outputs": [
    {
     "name": "stdout",
     "output_type": "stream",
     "text": [
      "+---+---+------------+\n",
      "|src|dst|relationship|\n",
      "+---+---+------------+\n",
      "|  a|  e|      friend|\n",
      "|  c|  e|      friend|\n",
      "|  a|  b|      friend|\n",
      "|  b|  c|      follow|\n",
      "|  e|  f|      follow|\n",
      "+---+---+------------+\n",
      "\n"
     ]
    }
   ],
   "source": [
    "e.withColumn('MappedCol', deleteOrKeep(e.src, e.dst))\\\n",
    ".filter('MappedCol == \"Keep\"').drop('MappedCol').show()"
   ]
  },
  {
   "cell_type": "markdown",
   "metadata": {
    "id": "BSbZuRvU2Fj1"
   },
   "source": [
    "# Filtering and connected components"
   ]
  },
  {
   "cell_type": "markdown",
   "metadata": {
    "id": "_8msLKLY_gt2"
   },
   "source": [
    "Check vertices when \"age\" greater than 30 and check edges \"relationship\" equal \"friend\" "
   ]
  },
  {
   "cell_type": "code",
   "execution_count": 20,
   "metadata": {
    "id": "5aed07er2DH_"
   },
   "outputs": [
    {
     "name": "stdout",
     "output_type": "stream",
     "text": [
      "+---+------+---+\n",
      "| id|  name|age|\n",
      "+---+------+---+\n",
      "|  a| Alice| 34|\n",
      "|  b|   Bob| 36|\n",
      "|  e|Esther| 32|\n",
      "|  f| Fanny| 36|\n",
      "+---+------+---+\n",
      "\n"
     ]
    }
   ],
   "source": [
    "g.vertices.filter(\"age > 30\").show()"
   ]
  },
  {
   "cell_type": "code",
   "execution_count": 21,
   "metadata": {},
   "outputs": [
    {
     "name": "stdout",
     "output_type": "stream",
     "text": [
      "+---+---+------------+\n",
      "|src|dst|relationship|\n",
      "+---+---+------------+\n",
      "|  a|  e|      friend|\n",
      "|  c|  e|      friend|\n",
      "|  a|  b|      friend|\n",
      "|  e|  d|      friend|\n",
      "|  d|  a|      friend|\n",
      "+---+---+------------+\n",
      "\n"
     ]
    }
   ],
   "source": [
    "g.edges.filter(\"relationship = 'friend'\").show()"
   ]
  },
  {
   "cell_type": "code",
   "execution_count": 22,
   "metadata": {},
   "outputs": [
    {
     "name": "stderr",
     "output_type": "stream",
     "text": [
      "                                                                                \r"
     ]
    },
    {
     "name": "stdout",
     "output_type": "stream",
     "text": [
      "+---+------+---+\n",
      "| id|  name|age|\n",
      "+---+------+---+\n",
      "|  e|Esther| 32|\n",
      "|  b|   Bob| 36|\n",
      "|  a| Alice| 34|\n",
      "+---+------+---+\n",
      "\n"
     ]
    },
    {
     "name": "stderr",
     "output_type": "stream",
     "text": [
      "                                                                                \r"
     ]
    },
    {
     "name": "stdout",
     "output_type": "stream",
     "text": [
      "+---+---+------------+\n",
      "|src|dst|relationship|\n",
      "+---+---+------------+\n",
      "|  a|  e|      friend|\n",
      "|  a|  b|      friend|\n",
      "+---+---+------------+\n",
      "\n"
     ]
    }
   ],
   "source": [
    "g2 = g.filterVertices(\"age>30\").filterEdges(\"relationship = 'friend'\").dropIsolatedVertices()\n",
    "g2.vertices.show()\n",
    "g2.edges.show()"
   ]
  },
  {
   "cell_type": "markdown",
   "metadata": {
    "id": "WcPymwAuAqLP"
   },
   "source": [
    "GraphFrames requires you to set a directory where it can save checkpoints. Create such a folder in your working directory "
   ]
  },
  {
   "cell_type": "code",
   "execution_count": 24,
   "metadata": {
    "id": "b36A-EG5_oan"
   },
   "outputs": [],
   "source": [
    "spark.sparkContext.setCheckpointDir(\"/home/ahmed/spark/check_points\")"
   ]
  },
  {
   "cell_type": "markdown",
   "metadata": {
    "id": "4giXRY78BAOj"
   },
   "source": [
    "Then, the connected components can easily be computed with the connectedComponents-function.\n"
   ]
  },
  {
   "cell_type": "code",
   "execution_count": 25,
   "metadata": {
    "id": "pxWod2aV2Jfo"
   },
   "outputs": [
    {
     "name": "stderr",
     "output_type": "stream",
     "text": [
      "                                                                                \r"
     ]
    },
    {
     "name": "stdout",
     "output_type": "stream",
     "text": [
      "+---+-------+---+------------+\n",
      "| id|   name|age|   component|\n",
      "+---+-------+---+------------+\n",
      "|  a|  Alice| 34|412316860416|\n",
      "|  b|    Bob| 36|412316860416|\n",
      "|  c|Charlie| 30|412316860416|\n",
      "|  d|  David| 29|412316860416|\n",
      "|  e| Esther| 32|412316860416|\n",
      "|  f|  Fanny| 36|412316860416|\n",
      "+---+-------+---+------------+\n",
      "\n"
     ]
    }
   ],
   "source": [
    "g.connectedComponents().show()"
   ]
  },
  {
   "cell_type": "markdown",
   "metadata": {
    "id": "1fT7SgXa2Mwx"
   },
   "source": [
    "## Motif finding\n"
   ]
  },
  {
   "cell_type": "markdown",
   "metadata": {
    "id": "7NEG6oz0BjgV"
   },
   "source": [
    "Search for pairs of vertices a,b connected by edge e and pairs of vertices b,c connected by edge e2. It will return a DataFrame of all such structures in the graph"
   ]
  },
  {
   "cell_type": "code",
   "execution_count": 26,
   "metadata": {
    "id": "T8oLAC-H2OLc"
   },
   "outputs": [],
   "source": [
    "motif = g.find(\"(v1)-[e]->(v2);(v2)-[e2]->(v3)\")"
   ]
  },
  {
   "cell_type": "code",
   "execution_count": 27,
   "metadata": {},
   "outputs": [
    {
     "name": "stderr",
     "output_type": "stream",
     "text": [
      "                                                                                \r"
     ]
    },
    {
     "name": "stdout",
     "output_type": "stream",
     "text": [
      "+----------------+--------------+----------------+--------------+----------------+\n",
      "|              v1|             e|              v2|            e2|              v3|\n",
      "+----------------+--------------+----------------+--------------+----------------+\n",
      "|[c, Charlie, 30]|[c, e, friend]| [e, Esther, 32]|[e, f, follow]|  [f, Fanny, 36]|\n",
      "|  [a, Alice, 34]|[a, e, friend]| [e, Esther, 32]|[e, f, follow]|  [f, Fanny, 36]|\n",
      "|  [f, Fanny, 36]|[f, c, follow]|[c, Charlie, 30]|[c, e, friend]| [e, Esther, 32]|\n",
      "|    [b, Bob, 36]|[b, c, follow]|[c, Charlie, 30]|[c, e, friend]| [e, Esther, 32]|\n",
      "|  [d, David, 29]|[d, a, friend]|  [a, Alice, 34]|[a, e, friend]| [e, Esther, 32]|\n",
      "|[c, Charlie, 30]|[c, e, friend]| [e, Esther, 32]|[e, d, friend]|  [d, David, 29]|\n",
      "|  [a, Alice, 34]|[a, e, friend]| [e, Esther, 32]|[e, d, friend]|  [d, David, 29]|\n",
      "| [e, Esther, 32]|[e, f, follow]|  [f, Fanny, 36]|[f, c, follow]|[c, Charlie, 30]|\n",
      "|  [f, Fanny, 36]|[f, b, follow]|    [b, Bob, 36]|[b, c, follow]|[c, Charlie, 30]|\n",
      "|[c, Charlie, 30]|[c, b, follow]|    [b, Bob, 36]|[b, c, follow]|[c, Charlie, 30]|\n",
      "|  [a, Alice, 34]|[a, b, friend]|    [b, Bob, 36]|[b, c, follow]|[c, Charlie, 30]|\n",
      "| [e, Esther, 32]|[e, f, follow]|  [f, Fanny, 36]|[f, b, follow]|    [b, Bob, 36]|\n",
      "|  [f, Fanny, 36]|[f, c, follow]|[c, Charlie, 30]|[c, b, follow]|    [b, Bob, 36]|\n",
      "|    [b, Bob, 36]|[b, c, follow]|[c, Charlie, 30]|[c, b, follow]|    [b, Bob, 36]|\n",
      "|  [d, David, 29]|[d, a, friend]|  [a, Alice, 34]|[a, b, friend]|    [b, Bob, 36]|\n",
      "| [e, Esther, 32]|[e, d, friend]|  [d, David, 29]|[d, a, friend]|  [a, Alice, 34]|\n",
      "+----------------+--------------+----------------+--------------+----------------+\n",
      "\n"
     ]
    }
   ],
   "source": [
    "motif.show()"
   ]
  },
  {
   "cell_type": "code",
   "execution_count": 28,
   "metadata": {},
   "outputs": [
    {
     "name": "stderr",
     "output_type": "stream",
     "text": [
      "                                                                                \r"
     ]
    },
    {
     "name": "stdout",
     "output_type": "stream",
     "text": [
      "+--------------+--------------+------------+--------------+----------------+\n",
      "|            v1|             e|          v2|            e2|              v3|\n",
      "+--------------+--------------+------------+--------------+----------------+\n",
      "|[a, Alice, 34]|[a, b, friend]|[b, Bob, 36]|[b, c, follow]|[c, Charlie, 30]|\n",
      "+--------------+--------------+------------+--------------+----------------+\n",
      "\n"
     ]
    }
   ],
   "source": [
    "motif.filter(\"v1.id == 'a' and v2.id == 'b' and v3.id == 'c'\").show()"
   ]
  }
 ],
 "metadata": {
  "colab": {
   "collapsed_sections": [],
   "name": "Practical_Work_3_Streaming_and_GraphFrames.ipynb",
   "provenance": []
  },
  "kernelspec": {
   "display_name": "Python 3 (ipykernel)",
   "language": "python",
   "name": "python3"
  },
  "language_info": {
   "codemirror_mode": {
    "name": "ipython",
    "version": 3
   },
   "file_extension": ".py",
   "mimetype": "text/x-python",
   "name": "python",
   "nbconvert_exporter": "python",
   "pygments_lexer": "ipython3",
   "version": "3.8.10"
  }
 },
 "nbformat": 4,
 "nbformat_minor": 1
}
