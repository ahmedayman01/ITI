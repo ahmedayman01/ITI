{
 "cells": [
  {
   "cell_type": "markdown",
   "metadata": {},
   "source": [
    "# 1 Scheduling problem"
   ]
  },
  {
   "cell_type": "code",
   "execution_count": 3,
   "metadata": {},
   "outputs": [
    {
     "data": {
      "text/plain": [
       "3"
      ]
     },
     "execution_count": 3,
     "metadata": {},
     "output_type": "execute_result"
    }
   ],
   "source": [
    "def maxt(l,t):\n",
    "    now = 0\n",
    "    e = 0\n",
    "    l.sort()\n",
    "    for i in range(len(l)-1):\n",
    "        now += l[i]\n",
    "        if now > t:\n",
    "            break\n",
    "        else:\n",
    "            e += 1\n",
    "    return e\n",
    "maxt([5,3,4,2,1],6)"
   ]
  },
  {
   "cell_type": "markdown",
   "metadata": {},
   "source": [
    "# 2 Activity Selection Problem"
   ]
  },
  {
   "cell_type": "code",
   "execution_count": 4,
   "metadata": {},
   "outputs": [
    {
     "name": "stdout",
     "output_type": "stream",
     "text": [
      "0\n",
      "2\n"
     ]
    }
   ],
   "source": [
    "def maxact(start,end):\n",
    "    i = 0\n",
    "    print(i)\n",
    "    for j in range(len(end)):\n",
    "        if start[j] >= end[i]:\n",
    "            print (j)\n",
    "            i = j\n",
    "maxact([10, 12, 20], [20, 25, 30])"
   ]
  },
  {
   "cell_type": "code",
   "execution_count": null,
   "metadata": {},
   "outputs": [],
   "source": []
  }
 ],
 "metadata": {
  "kernelspec": {
   "display_name": "Python 3",
   "language": "python",
   "name": "python3"
  },
  "language_info": {
   "codemirror_mode": {
    "name": "ipython",
    "version": 3
   },
   "file_extension": ".py",
   "mimetype": "text/x-python",
   "name": "python",
   "nbconvert_exporter": "python",
   "pygments_lexer": "ipython3",
   "version": "3.8.5"
  }
 },
 "nbformat": 4,
 "nbformat_minor": 4
}
