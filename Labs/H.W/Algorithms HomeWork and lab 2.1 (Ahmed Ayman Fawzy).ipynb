{
 "cells": [
  {
   "cell_type": "markdown",
   "metadata": {},
   "source": [
    "# 1 Binary Search"
   ]
  },
  {
   "cell_type": "code",
   "execution_count": 1,
   "metadata": {},
   "outputs": [
    {
     "name": "stdout",
     "output_type": "stream",
     "text": [
      "index: 2\n",
      "index: 0\n",
      "index: not exist\n",
      "index: 0\n",
      "index: not exist\n"
     ]
    }
   ],
   "source": [
    "def bsearch(l, n):\n",
    "    low = 0\n",
    "    high = len(l) - 1\n",
    "    mid = 0\n",
    " \n",
    "    while low <= high:          #Complexity: O(Log n)\n",
    " \n",
    "        mid = (high + low) // 2\n",
    " \n",
    "        if l[mid] < n:\n",
    "            low = mid + 1\n",
    " \n",
    "        elif l[mid] > n:\n",
    "            high = mid - 1\n",
    " \n",
    "        else:\n",
    "            return mid\n",
    " \n",
    "    return \"not exist\"\n",
    " \n",
    "l = [1,5,8,12,13]\n",
    "l2 = [8,1,23,1,11]\n",
    "for i in l2:\n",
    "    print('index: ' + str(bsearch(l,i)))"
   ]
  },
  {
   "cell_type": "markdown",
   "metadata": {},
   "source": [
    "# 2 Merge Sort"
   ]
  },
  {
   "cell_type": "code",
   "execution_count": 5,
   "metadata": {},
   "outputs": [
    {
     "data": {
      "text/plain": [
       "[3, 9, 10, 27, 38, 43, 82]"
      ]
     },
     "execution_count": 5,
     "metadata": {},
     "output_type": "execute_result"
    }
   ],
   "source": [
    "def mergeSort(myList):\n",
    "    if len(myList) > 1:\n",
    "        mid = len(myList) // 2\n",
    "        left = myList[:mid]\n",
    "        right = myList[mid:]\n",
    "        mergeSort(left)\n",
    "        mergeSort(right)\n",
    "        i = j = k = 0\n",
    "        while i < len(left) and j < len(right):\n",
    "            if left[i] < right[j]:\n",
    "                myList[k] = left[i]\n",
    "                i += 1\n",
    "            else:\n",
    "                myList[k] = right[j]\n",
    "                j += 1\n",
    "            k += 1\n",
    "        while i < len(left):\n",
    "            myList[k] = left[i]\n",
    "            i += 1 \n",
    "            k += 1\n",
    "        while j < len(right):\n",
    "            myList[k]=right[j]\n",
    "            j += 1 \n",
    "            k += 1\n",
    "myList = [38,27,43,3,9,82,10]\n",
    "mergeSort(myList)\n",
    "myList"
   ]
  },
  {
   "cell_type": "markdown",
   "metadata": {},
   "source": [
    "# 3 Quick Sort"
   ]
  },
  {
   "cell_type": "code",
   "execution_count": 18,
   "metadata": {},
   "outputs": [
    {
     "data": {
      "text/plain": [
       "[-6, -3, 1, 2, 3, 5, 6, 8, 9]"
      ]
     },
     "execution_count": 18,
     "metadata": {},
     "output_type": "execute_result"
    }
   ],
   "source": [
    "def partition(l, start, end):\n",
    "    pivot_index = start\n",
    "    pivot = l[pivot_index]\n",
    "     \n",
    "    while start < end:\n",
    "         \n",
    "        while start < len(l) and l[start] <= pivot:\n",
    "            start += 1\n",
    "             \n",
    "        while l[end] > pivot:\n",
    "            end -= 1\n",
    "         \n",
    "        if(start < end):\n",
    "            l[start], l[end] = l[end], l[start]\n",
    "     \n",
    "    l[end], l[pivot_index] = l[pivot_index], l[end]\n",
    "    \n",
    "    return end\n",
    "     \n",
    "def quick_sort(l, start, end):\n",
    "     \n",
    "    if (start < end):\n",
    "         \n",
    "        p = partition(l, start, end)\n",
    "         \n",
    "        quick_sort(l, start, p - 1)\n",
    "        quick_sort(l, p + 1, end)\n",
    "         \n",
    "l = [9,-3,5,2,6,8,-6,1,3]\n",
    "quick_sort(l, 0, len(l) - 1)\n",
    "array"
   ]
  },
  {
   "cell_type": "markdown",
   "metadata": {},
   "source": [
    "# 4 Fast Exponentiation"
   ]
  },
  {
   "cell_type": "code",
   "execution_count": 14,
   "metadata": {},
   "outputs": [
    {
     "data": {
      "text/plain": [
       "1"
      ]
     },
     "execution_count": 14,
     "metadata": {},
     "output_type": "execute_result"
    }
   ],
   "source": [
    "def fastExpon(n,p):\n",
    "    if p==1:\n",
    "        return n\n",
    "    if p%2==0:\n",
    "        return fastExpon(n,p/2)*fastExpon(n,p/2)\n",
    "    else:\n",
    "        return fastExpon(n,p//2)*fastExpon(n,p//2)*n\n",
    "    \n",
    "base,power,n=21,8,4  \n",
    "fastExpon(base,power)%n"
   ]
  },
  {
   "cell_type": "markdown",
   "metadata": {},
   "source": [
    "# 5 Segments"
   ]
  },
  {
   "cell_type": "code",
   "execution_count": 7,
   "metadata": {},
   "outputs": [
    {
     "data": {
      "text/plain": [
       "[0, 0, 1]"
      ]
     },
     "execution_count": 7,
     "metadata": {},
     "output_type": "execute_result"
    }
   ],
   "source": [
    "def find(segment, points, s, p):\n",
    "    calc = {}\n",
    "    keys = []\n",
    "    result = []\n",
    "    for point in points:\n",
    "        if point not in calculations:\n",
    "            calc[point] = 0\n",
    "            keys.append(point)\n",
    "        if point in range(segment[0], segment[1]+1):\n",
    "            calc[point] += 1\n",
    "    for key in keys:\n",
    "        result.append(calc[key])\n",
    "    return result\n",
    "segments = [(-10,10)]\n",
    "points=[-100,100,0]\n",
    "results=[findPoint(segments,point,0,len(segments)-1) for point in points]\n",
    "\n",
    "results"
   ]
  },
  {
   "cell_type": "markdown",
   "metadata": {},
   "source": [
    "# 6 Majority Element"
   ]
  },
  {
   "cell_type": "code",
   "execution_count": 25,
   "metadata": {},
   "outputs": [
    {
     "name": "stdout",
     "output_type": "stream",
     "text": [
      "1\n",
      "0\n"
     ]
    }
   ],
   "source": [
    "def majorityElement(lst):\n",
    "    n = len(lst)\n",
    "    m = 0\n",
    "    count = 0\n",
    " \n",
    "    for i in range(len(lst)):\n",
    " \n",
    "        if count == 0:\n",
    " \n",
    "            m = lst[i]\n",
    " \n",
    "            count = 1\n",
    " \n",
    "        elif m == lst[i]:\n",
    "            count = count + 1\n",
    " \n",
    "        \n",
    "    if count > n/2:\n",
    "        return 1\n",
    "    else:\n",
    "        return 0\n",
    "myList=[2,3,9,2,2]\n",
    "lst = [1,2,3,1]\n",
    "print(majorityElement(myList))\n",
    "print(majorityElement(lst))"
   ]
  }
 ],
 "metadata": {
  "kernelspec": {
   "display_name": "Python 3",
   "language": "python",
   "name": "python3"
  },
  "language_info": {
   "codemirror_mode": {
    "name": "ipython",
    "version": 3
   },
   "file_extension": ".py",
   "mimetype": "text/x-python",
   "name": "python",
   "nbconvert_exporter": "python",
   "pygments_lexer": "ipython3",
   "version": "3.8.5"
  }
 },
 "nbformat": 4,
 "nbformat_minor": 4
}
