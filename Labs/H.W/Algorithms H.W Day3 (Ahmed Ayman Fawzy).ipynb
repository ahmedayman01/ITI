{
 "cells": [
  {
   "cell_type": "markdown",
   "metadata": {},
   "source": [
    "# Fibonacci using top-down approach(without Memorization)"
   ]
  },
  {
   "cell_type": "code",
   "execution_count": 2,
   "metadata": {},
   "outputs": [
    {
     "data": {
      "text/plain": [
       "34"
      ]
     },
     "execution_count": 2,
     "metadata": {},
     "output_type": "execute_result"
    }
   ],
   "source": [
    "def fib(n):\n",
    "    if n <= 1:\n",
    "        return n\n",
    "    else:\n",
    "        return fib(n -1) + fib(n -2)\n",
    "fib(9)"
   ]
  },
  {
   "cell_type": "markdown",
   "metadata": {},
   "source": [
    "# Fibonacci numbers using Tabulation Approach (Bottom Up)"
   ]
  },
  {
   "cell_type": "code",
   "execution_count": 74,
   "metadata": {},
   "outputs": [
    {
     "data": {
      "text/plain": [
       "12586269025"
      ]
     },
     "execution_count": 74,
     "metadata": {},
     "output_type": "execute_result"
    }
   ],
   "source": [
    "def fib(n):\n",
    "    lst = [0] * (n+1)\n",
    "    \n",
    "    if n == 0 or n == 1 :\n",
    "        lst[n] = n\n",
    "    else:\n",
    "        lst[1] = 1\n",
    "        for i in range(2,n+1):\n",
    "            lst[i] += lst[i-1] + lst[i-2]\n",
    "    return lst[n]\n",
    "fib(50)"
   ]
  },
  {
   "cell_type": "markdown",
   "metadata": {},
   "source": [
    "# Fibonacci using top-down approach (with Memorization)"
   ]
  },
  {
   "cell_type": "code",
   "execution_count": 84,
   "metadata": {},
   "outputs": [
    {
     "data": {
      "text/plain": [
       "12586269025"
      ]
     },
     "execution_count": 84,
     "metadata": {},
     "output_type": "execute_result"
    }
   ],
   "source": [
    "def fib(n,lst):    \n",
    "    if n == 0 or n == 1 :\n",
    "        lst[n] = n\n",
    "    if lst[n] is None:\n",
    "        lst[n] = fib(n-1,lst) + fib(n-2,lst)\n",
    "    return lst[n]\n",
    "n = 50\n",
    "lst = [None] * (n+1)\n",
    "fib(n,lst)"
   ]
  },
  {
   "cell_type": "markdown",
   "metadata": {},
   "source": [
    "# Longest Increasing Subsequence (LIS)"
   ]
  },
  {
   "cell_type": "code",
   "execution_count": 6,
   "metadata": {},
   "outputs": [
    {
     "data": {
      "text/plain": [
       "5"
      ]
     },
     "execution_count": 6,
     "metadata": {},
     "output_type": "execute_result"
    }
   ],
   "source": [
    "def lis(arr):\n",
    "    lst = [1]*(len(arr)+1)\n",
    "    for i in range(1,len(arr)):\n",
    "        for j in range(0,i):\n",
    "            if arr[i] > arr[j] and lst[i] < lst[j] + 1:\n",
    "                lst[i] = lst[j]+1\n",
    "    max_n = max(lst)\n",
    "    return max_n\n",
    "arr = [10, 22, 9, 33, 21, 50, 41, 60]\n",
    "lis(arr)"
   ]
  },
  {
   "cell_type": "markdown",
   "metadata": {},
   "source": [
    "# Karatsuba algorithm for fast multiplication"
   ]
  },
  {
   "cell_type": "code",
   "execution_count": 1,
   "metadata": {},
   "outputs": [
    {
     "data": {
      "text/plain": [
       "9114896"
      ]
     },
     "execution_count": 1,
     "metadata": {},
     "output_type": "execute_result"
    }
   ],
   "source": [
    "from math import ceil, floor\n",
    "\n",
    "\n",
    "def karatsuba(X, Y):\n",
    "    \n",
    "    if X < 10 and Y < 10:\n",
    "        return X * Y\n",
    "\n",
    "    size = max(len(str(X)), len(str(Y)))\n",
    "\n",
    "    n = ceil(size // 2)\n",
    "    p = 10 ** n\n",
    "    a = floor(X // p)\n",
    "    b = X % p\n",
    "    c = floor(Y // p)\n",
    "    d = Y % p\n",
    "\n",
    "    ac = karatsuba(a, c)\n",
    "    bd = karatsuba(b, d)\n",
    "    e = karatsuba(a + b, c + d) - ac - bd\n",
    "\n",
    "    return int(10 ** (2 * n) * ac + (10 ** n) * e + bd)\n",
    "\n",
    "karatsuba(5432,1678)"
   ]
  },
  {
   "cell_type": "code",
   "execution_count": 2,
   "metadata": {},
   "outputs": [
    {
     "data": {
      "text/plain": [
       "90665696"
      ]
     },
     "execution_count": 2,
     "metadata": {},
     "output_type": "execute_result"
    }
   ],
   "source": [
    "karatsuba(54032,1678)"
   ]
  },
  {
   "cell_type": "markdown",
   "metadata": {},
   "source": [
    "# Fractional Knapsack Problem"
   ]
  },
  {
   "cell_type": "code",
   "execution_count": 3,
   "metadata": {},
   "outputs": [
    {
     "data": {
      "text/plain": [
       "240.0"
      ]
     },
     "execution_count": 3,
     "metadata": {},
     "output_type": "execute_result"
    }
   ],
   "source": [
    "import numpy as np\n",
    "def k_fraction(l,c):\n",
    "    totalValue=0\n",
    "    for i in range(len(l)):\n",
    "        if c==0:\n",
    "            break\n",
    "        if l[i][1]<=c:\n",
    "            totalValue+=l[i][2]\n",
    "            c-=l[i][1]\n",
    "        else:\n",
    "            totalValue+=c*l[i][0]\n",
    "            c=0\n",
    "    return totalValue\n",
    "c=50\n",
    "value=np.array([60,100,120])\n",
    "weight=np.array([10,20,30])\n",
    "ratio=value/weight\n",
    "x = sorted(zip(ratio,weight,value),reverse=True)\n",
    "\n",
    "k_fraction(x,c)"
   ]
  },
  {
   "cell_type": "markdown",
   "metadata": {},
   "source": [
    "# Money Change Problem"
   ]
  },
  {
   "cell_type": "code",
   "execution_count": 53,
   "metadata": {},
   "outputs": [],
   "source": [
    "def change(l,a):\n",
    "    count = 0\n",
    "    j = 0\n",
    "    for i in l:\n",
    "        for q in range(a):\n",
    "            \n",
    "            if count < a and (count + i) <= a:\n",
    "                count += i\n",
    "                j +=1\n",
    "                \n",
    "    return -1 if count < a else j"
   ]
  },
  {
   "cell_type": "code",
   "execution_count": 54,
   "metadata": {},
   "outputs": [
    {
     "data": {
      "text/plain": [
       "4"
      ]
     },
     "execution_count": 54,
     "metadata": {},
     "output_type": "execute_result"
    }
   ],
   "source": [
    "l = [1, 2, 3]\n",
    "a = 10\n",
    "change(sorted(l, reverse=True),a)"
   ]
  },
  {
   "cell_type": "code",
   "execution_count": 55,
   "metadata": {},
   "outputs": [
    {
     "data": {
      "text/plain": [
       "10"
      ]
     },
     "execution_count": 55,
     "metadata": {},
     "output_type": "execute_result"
    }
   ],
   "source": [
    "l = [1, 3, 5, 6, 9]\n",
    "a = 90\n",
    "change(sorted(l, reverse=True),a)"
   ]
  },
  {
   "cell_type": "code",
   "execution_count": 56,
   "metadata": {},
   "outputs": [
    {
     "data": {
      "text/plain": [
       "-1"
      ]
     },
     "execution_count": 56,
     "metadata": {},
     "output_type": "execute_result"
    }
   ],
   "source": [
    "l = [2]\n",
    "a = 5\n",
    "change(sorted(l, reverse=True),a)"
   ]
  },
  {
   "cell_type": "markdown",
   "metadata": {},
   "source": [
    "# Edit Distance"
   ]
  },
  {
   "cell_type": "code",
   "execution_count": 38,
   "metadata": {},
   "outputs": [
    {
     "data": {
      "text/plain": [
       "5"
      ]
     },
     "execution_count": 38,
     "metadata": {},
     "output_type": "execute_result"
    }
   ],
   "source": [
    "def dist(s1, s2, m, n):\n",
    "\n",
    "    dp = [[0 for x in range(n + 1)] for x in range(m + 1)]\n",
    "    for i in range(m + 1):\n",
    "        for j in range(n + 1):\n",
    " \n",
    "            if i == 0:\n",
    "                dp[i][j] = j    \n",
    " \n",
    "            elif j == 0:\n",
    "                dp[i][j] = i    \n",
    " \n",
    "            \n",
    "            elif s1[i-1] == s2[j-1]:\n",
    "                dp[i][j] = dp[i-1][j-1]\n",
    " \n",
    "            else:\n",
    "                dp[i][j] = 1 + min(dp[i][j-1],        \n",
    "                                   dp[i-1][j],       \n",
    "                                   dp[i-1][j-1])   \n",
    " \n",
    "    return dp[m][n]\n",
    "\n",
    "s1 = \"editing\"\n",
    "s2 = \"distance\"\n",
    " \n",
    "dist(s1, s2, len(s1), len(s2))"
   ]
  },
  {
   "cell_type": "code",
   "execution_count": 40,
   "metadata": {},
   "outputs": [
    {
     "data": {
      "text/plain": [
       "3"
      ]
     },
     "execution_count": 40,
     "metadata": {},
     "output_type": "execute_result"
    }
   ],
   "source": [
    "s1 = \"short\"\n",
    "s2 = \"ports\"\n",
    "dist(s1, s2, len(s1), len(s2))"
   ]
  },
  {
   "cell_type": "markdown",
   "metadata": {},
   "source": [
    "#  Longest Common Subsequence of Two Sequences"
   ]
  },
  {
   "cell_type": "code",
   "execution_count": 52,
   "metadata": {},
   "outputs": [
    {
     "data": {
      "text/plain": [
       "4"
      ]
     },
     "execution_count": 52,
     "metadata": {},
     "output_type": "execute_result"
    }
   ],
   "source": [
    "def lc(s1,s2):\n",
    "    n,m=len(s1),len(s2)\n",
    "    L = [[None]*(m+1) for i in range(n+1)]\n",
    "    for i in range(n+1):\n",
    "        for j in range(m+1):\n",
    "            if i==0 or j==0:\n",
    "                L[i][j]=0\n",
    "            elif s1[i-1]==s2[j-1]:\n",
    "                L[i][j]=L[i-1][j-1]+1\n",
    "                \n",
    "            else:\n",
    "                L[i][j]=max(L[i-1][j],L[i][j-1])\n",
    "                \n",
    "                    \n",
    "    \n",
    "    return L[n][m]\n",
    "    \n",
    "\n",
    "s1,s2='ABCBDAB','BDCABA'\n",
    "\n",
    "lc(s1,s2)"
   ]
  },
  {
   "cell_type": "markdown",
   "metadata": {},
   "source": [
    "# 0-1 Knapsack Problem"
   ]
  },
  {
   "cell_type": "code",
   "execution_count": 1,
   "metadata": {},
   "outputs": [
    {
     "data": {
      "text/plain": [
       "220"
      ]
     },
     "execution_count": 1,
     "metadata": {},
     "output_type": "execute_result"
    }
   ],
   "source": [
    "def kn(lw,lv,c):\n",
    "    n = len(lw)\n",
    "    t = [[0 for x in range(c + 1)] for x in range(n + 1)]\n",
    "    for i in range(n+1):\n",
    "        for j in range(c+1):\n",
    "            if i == 0 or j == 0:\n",
    "                t[i][j] = 0\n",
    "            elif lw[i-1] <= j:\n",
    "                t[i][j] = max(lv[i-1] + t[i-1][j-lw[i-1]], t[i-1][j])\n",
    "            else:\n",
    "                t[i][j] = t[i-1][j]\n",
    "    return t[n][c]\n",
    "lw = [10,20,30]\n",
    "lv = [60,100,120]\n",
    "capacity = 50\n",
    "kn(lw,lv,capacity)"
   ]
  }
 ],
 "metadata": {
  "kernelspec": {
   "display_name": "Python 3",
   "language": "python",
   "name": "python3"
  },
  "language_info": {
   "codemirror_mode": {
    "name": "ipython",
    "version": 3
   },
   "file_extension": ".py",
   "mimetype": "text/x-python",
   "name": "python",
   "nbconvert_exporter": "python",
   "pygments_lexer": "ipython3",
   "version": "3.8.5"
  }
 },
 "nbformat": 4,
 "nbformat_minor": 4
}
