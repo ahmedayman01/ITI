{
 "cells": [
  {
   "cell_type": "markdown",
   "metadata": {},
   "source": [
    "# Ahmed Ayman Fawzy"
   ]
  },
  {
   "cell_type": "markdown",
   "metadata": {},
   "source": [
    "## 5.Consider the following algorithm for finding the distance between the two closest elements in an array of numbers. Make as many improvements as you can in this algorithmic solution to the problem. If you need to, you may change the algorithm altogether; if not, improve the implementation given."
   ]
  },
  {
   "cell_type": "code",
   "execution_count": 19,
   "metadata": {},
   "outputs": [
    {
     "name": "stdout",
     "output_type": "stream",
     "text": [
      "3\n"
     ]
    }
   ],
   "source": [
    "def mdis(l):\n",
    "    mdist=l[len(l)-1]\n",
    "    for i in range(len(l)-1):\n",
    "        mdist=min(mdist,l[i+1]-l[i])\n",
    "    return mdist\n",
    "a = [2,5,8,20,65,28,45]\n",
    "print(mdis(sorted(a)))"
   ]
  },
  {
   "cell_type": "markdown",
   "metadata": {},
   "source": [
    "## 6- Design an algorithm to find all the common elements in two sorted lists of numbers. For example, for the lists 2, 5, 5, 5 and 2, 2, 3, 5, 5, 7, the output should be 2,5,5. What is the maximum number of comparisons your algorithm makes if the lengths of the two given lists are m and n, respectively?"
   ]
  },
  {
   "cell_type": "code",
   "execution_count": 18,
   "metadata": {},
   "outputs": [
    {
     "name": "stdout",
     "output_type": "stream",
     "text": [
      "2\n",
      "5\n",
      "5\n"
     ]
    }
   ],
   "source": [
    "a = [2, 5, 5, 5]\n",
    "b = [2, 2, 3, 5, 5, 7]\n",
    "alldict = {}\n",
    "for i in a:          #Complexity: O(n)\n",
    "    alldict.setdefault(i,0)\n",
    "    alldict[i] +=1\n",
    "for j in b:\n",
    "    alldict.setdefault(j,0)\n",
    "    if alldict[j] > 0:\n",
    "        print(j)\n",
    "        alldict[j] -= 1\n"
   ]
  },
  {
   "cell_type": "code",
   "execution_count": 20,
   "metadata": {},
   "outputs": [
    {
     "name": "stdout",
     "output_type": "stream",
     "text": [
      "[2, 5, 5]\n"
     ]
    }
   ],
   "source": [
    "a = [2, 5, 5, 5]\n",
    "b = [2, 2, 3, 5, 5, 7]\n",
    "\n",
    "ia = 0\n",
    "ib = 0\n",
    "output = []\n",
    "while ia < len(a) and ib < len(b):       #Complexity: O(n)\n",
    "    if a[ia] < b[ib]:\n",
    "        ia += 1\n",
    "    elif a[ia] > b[ib]: \n",
    "        ib += 1\n",
    "    else: \n",
    "        output.append(a[ia])\n",
    "        ia += 1\n",
    "        ib += 1\n",
    "print(output)"
   ]
  },
  {
   "cell_type": "markdown",
   "metadata": {},
   "source": [
    "## 7. a. Find gcd(31415, 14142) by applying Euclid’s algorithm.  b. Estimate how many times faster it will be to find gcd(31415, 14142) by Euclid’s algorithm compared with the algorithm based on checking consecutive integersfrom min{m, n}down to gcd(m, n)"
   ]
  },
  {
   "cell_type": "code",
   "execution_count": 52,
   "metadata": {},
   "outputs": [
    {
     "data": {
      "text/plain": [
       "2"
      ]
     },
     "execution_count": 52,
     "metadata": {},
     "output_type": "execute_result"
    }
   ],
   "source": [
    "a,b=31415, 14142\n",
    "def gcd(a,b):\n",
    "    if b==0:\n",
    "        return a\n",
    "    else:\n",
    "        return gcd(b,a%b)   ##Complexity: O(Log n)\n",
    "gcd(a,b)"
   ]
  },
  {
   "cell_type": "code",
   "execution_count": 51,
   "metadata": {},
   "outputs": [
    {
     "data": {
      "text/plain": [
       "1"
      ]
     },
     "execution_count": 51,
     "metadata": {},
     "output_type": "execute_result"
    }
   ],
   "source": [
    "a,b=31415, 14142\n",
    "def gcd(a,b):\n",
    "    for i in range(min(a, b), 0, -1):   #Complexity: O(n)\n",
    "        if a % i ==0 and b % i == 0 :\n",
    "            return i\n",
    "gcd(a,b)"
   ]
  },
  {
   "cell_type": "markdown",
   "metadata": {},
   "source": [
    "# Factorial Iterative\n"
   ]
  },
  {
   "cell_type": "code",
   "execution_count": 20,
   "metadata": {},
   "outputs": [
    {
     "name": "stdout",
     "output_type": "stream",
     "text": [
      "720\n"
     ]
    }
   ],
   "source": [
    "def fact(n):\n",
    "    f = 1\n",
    "    for i in range(1,n+1):   #Complexity: O(n)\n",
    "        f *= i\n",
    "    return f\n",
    "print(fact(6))"
   ]
  },
  {
   "cell_type": "markdown",
   "metadata": {},
   "source": [
    "# Recursive Factorial\n"
   ]
  },
  {
   "cell_type": "code",
   "execution_count": 25,
   "metadata": {},
   "outputs": [
    {
     "name": "stdout",
     "output_type": "stream",
     "text": [
      "1\n"
     ]
    }
   ],
   "source": [
    "def facr(n):\n",
    "    if n <= 1:\n",
    "        return 1\n",
    "    else:\n",
    "        return n*facr(n-1)       #Complexity: O(n!)\n",
    "print(facr(0))"
   ]
  },
  {
   "cell_type": "markdown",
   "metadata": {},
   "source": [
    "# Fibonacci Iterative\n"
   ]
  },
  {
   "cell_type": "code",
   "execution_count": 26,
   "metadata": {},
   "outputs": [
    {
     "data": {
      "text/plain": [
       "55"
      ]
     },
     "execution_count": 26,
     "metadata": {},
     "output_type": "execute_result"
    }
   ],
   "source": [
    "def fib(n):\n",
    "    x,y=0,1\n",
    "    for i in range(n):\n",
    "        x,y=y,x+y\n",
    "    return x\n",
    "fib(10)"
   ]
  },
  {
   "cell_type": "markdown",
   "metadata": {},
   "source": [
    "# Fibonacci Recursion"
   ]
  },
  {
   "cell_type": "code",
   "execution_count": 27,
   "metadata": {},
   "outputs": [
    {
     "data": {
      "text/plain": [
       "55"
      ]
     },
     "execution_count": 27,
     "metadata": {},
     "output_type": "execute_result"
    }
   ],
   "source": [
    "def fib(n):\n",
    "    if n <= 1:\n",
    "        return n\n",
    "    else:\n",
    "        return (fib(n-1) + fib(n -2))         #Complexity: O(k^n)\n",
    "\n",
    "fib(10)"
   ]
  },
  {
   "cell_type": "markdown",
   "metadata": {},
   "source": [
    "# Iterative Linear Search"
   ]
  },
  {
   "cell_type": "code",
   "execution_count": 30,
   "metadata": {},
   "outputs": [
    {
     "name": "stdout",
     "output_type": "stream",
     "text": [
      "index: 3\n"
     ]
    }
   ],
   "source": [
    "def search(l, n):\n",
    "  \n",
    "    for i in range(len(l)):         #Complexity: O(n)\n",
    "  \n",
    "        if l[i] == n:\n",
    "            return i\n",
    "  \n",
    "    return \"not exist\"\n",
    "l = [1,5,10,9,18]\n",
    "print('index: ' + str(search(l,9)))"
   ]
  },
  {
   "cell_type": "markdown",
   "metadata": {},
   "source": [
    "# Recursion linear search"
   ]
  },
  {
   "cell_type": "code",
   "execution_count": 35,
   "metadata": {},
   "outputs": [
    {
     "name": "stdout",
     "output_type": "stream",
     "text": [
      "index: 3\n"
     ]
    }
   ],
   "source": [
    "def search(l,n,p=0):\n",
    "    if p<=len(l)-1:\n",
    "        if l[p]==n:\n",
    "            return p\n",
    "        else:\n",
    "            return search(l,n,p+1)         #Complexity: O(n!)\n",
    "    else:\n",
    "        return \"not exist\"\n",
    "l=[1,5,10,9,18]\n",
    "print('index: ' + str(search(l,9)))          "
   ]
  },
  {
   "cell_type": "markdown",
   "metadata": {},
   "source": [
    "# Binary Search Iterative"
   ]
  },
  {
   "cell_type": "code",
   "execution_count": 42,
   "metadata": {},
   "outputs": [
    {
     "name": "stdout",
     "output_type": "stream",
     "text": [
      "index: 5\n"
     ]
    }
   ],
   "source": [
    "def bsearch(l, n):\n",
    "    low = 0\n",
    "    high = len(l) - 1\n",
    "    mid = 0\n",
    " \n",
    "    while low <= high:          #Complexity: O(Log n)\n",
    " \n",
    "        mid = (high + low) // 2\n",
    " \n",
    "        if l[mid] < n:\n",
    "            low = mid + 1\n",
    " \n",
    "        elif l[mid] > n:\n",
    "            high = mid - 1\n",
    " \n",
    "        else:\n",
    "            return mid\n",
    " \n",
    "    return \"not exist\"\n",
    " \n",
    "l = [2,5,8,8,65,9,45]\n",
    "print('index: ' + str(bsearch(l,9)))"
   ]
  },
  {
   "cell_type": "markdown",
   "metadata": {},
   "source": [
    "# Binary Search Recursive"
   ]
  },
  {
   "cell_type": "markdown",
   "metadata": {},
   "source": []
  },
  {
   "cell_type": "code",
   "execution_count": 31,
   "metadata": {},
   "outputs": [
    {
     "name": "stdout",
     "output_type": "stream",
     "text": [
      "index After Sorting is : 4\n"
     ]
    }
   ],
   "source": [
    "def bsearch(l, n, low, high):\n",
    "    mid = (high + low) // 2\n",
    "    if low>high:\n",
    "        return \"not exist\"\n",
    "    elif n == l[mid]:\n",
    "        return mid\n",
    "    elif n < l[mid]:\n",
    "        return bsearch(l,n,low,mid-1)\n",
    "    else:\n",
    "        return bsearch(l,n,low=mid+1,high=high)\n",
    " \n",
    "    return \"not exist\"\n",
    "\n",
    "a = [2,5,8,8,65,9,45]\n",
    "print('index After Sorting is : ' + str(bsearch(sorted(a),9,0,len(a)-1)))"
   ]
  },
  {
   "cell_type": "code",
   "execution_count": null,
   "metadata": {},
   "outputs": [],
   "source": []
  }
 ],
 "metadata": {
  "kernelspec": {
   "display_name": "Python 3",
   "language": "python",
   "name": "python3"
  },
  "language_info": {
   "codemirror_mode": {
    "name": "ipython",
    "version": 3
   },
   "file_extension": ".py",
   "mimetype": "text/x-python",
   "name": "python",
   "nbconvert_exporter": "python",
   "pygments_lexer": "ipython3",
   "version": "3.8.5"
  },
  "toc": {
   "base_numbering": 1,
   "nav_menu": {},
   "number_sections": true,
   "sideBar": true,
   "skip_h1_title": false,
   "title_cell": "Table of Contents",
   "title_sidebar": "Contents",
   "toc_cell": false,
   "toc_position": {},
   "toc_section_display": true,
   "toc_window_display": false
  }
 },
 "nbformat": 4,
 "nbformat_minor": 4
}
