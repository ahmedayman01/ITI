{
 "cells": [
  
  {
   "cell_type": "code",
   "execution_count": 1,
   "metadata": {},
   "outputs": [],
   "source": [
    "# importing libraries  \n",
    "import numpy as np  \n",
    "import matplotlib.pyplot as mtp  \n",
    "import pandas as pd \n",
    "import matplotlib.pyplot as plt"
   ]
  },
  {
   "cell_type": "code",
   "execution_count": 2,
   "metadata": {},
   "outputs": [
    {
     "data": {
      "text/html": [
       "<div>\n",
       "<style scoped>\n",
       "    .dataframe tbody tr th:only-of-type {\n",
       "        vertical-align: middle;\n",
       "    }\n",
       "\n",
       "    .dataframe tbody tr th {\n",
       "        vertical-align: top;\n",
       "    }\n",
       "\n",
       "    .dataframe thead th {\n",
       "        text-align: right;\n",
       "    }\n",
       "</style>\n",
       "<table border=\"1\" class=\"dataframe\">\n",
       "  <thead>\n",
       "    <tr style=\"text-align: right;\">\n",
       "      <th></th>\n",
       "      <th>CustomerID</th>\n",
       "      <th>Genre</th>\n",
       "      <th>Age</th>\n",
       "      <th>Annual Income (k$)</th>\n",
       "      <th>Spending Score (1-100)</th>\n",
       "    </tr>\n",
       "  </thead>\n",
       "  <tbody>\n",
       "    <tr>\n",
       "      <th>0</th>\n",
       "      <td>1</td>\n",
       "      <td>Male</td>\n",
       "      <td>19</td>\n",
       "      <td>15</td>\n",
       "      <td>39</td>\n",
       "    </tr>\n",
       "    <tr>\n",
       "      <th>1</th>\n",
       "      <td>2</td>\n",
       "      <td>Male</td>\n",
       "      <td>21</td>\n",
       "      <td>15</td>\n",
       "      <td>81</td>\n",
       "    </tr>\n",
       "    <tr>\n",
       "      <th>2</th>\n",
       "      <td>3</td>\n",
       "      <td>Female</td>\n",
       "      <td>20</td>\n",
       "      <td>16</td>\n",
       "      <td>6</td>\n",
       "    </tr>\n",
       "    <tr>\n",
       "      <th>3</th>\n",
       "      <td>4</td>\n",
       "      <td>Female</td>\n",
       "      <td>23</td>\n",
       "      <td>16</td>\n",
       "      <td>77</td>\n",
       "    </tr>\n",
       "    <tr>\n",
       "      <th>4</th>\n",
       "      <td>5</td>\n",
       "      <td>Female</td>\n",
       "      <td>31</td>\n",
       "      <td>17</td>\n",
       "      <td>40</td>\n",
       "    </tr>\n",
       "  </tbody>\n",
       "</table>\n",
       "</div>"
      ],
      "text/plain": [
       "   CustomerID   Genre  Age  Annual Income (k$)  Spending Score (1-100)\n",
       "0           1    Male   19                  15                      39\n",
       "1           2    Male   21                  15                      81\n",
       "2           3  Female   20                  16                       6\n",
       "3           4  Female   23                  16                      77\n",
       "4           5  Female   31                  17                      40"
      ]
     },
     "execution_count": 2,
     "metadata": {},
     "output_type": "execute_result"
    }
   ],
   "source": [
    "df = pd.read_csv('Mall_Customers.csv')\n",
    "df.head()"
   ]
  },
  {
   "cell_type": "code",
   "execution_count": 3,
   "metadata": {},
   "outputs": [
    {
     "data": {
      "text/html": [
       "<div>\n",
       "<style scoped>\n",
       "    .dataframe tbody tr th:only-of-type {\n",
       "        vertical-align: middle;\n",
       "    }\n",
       "\n",
       "    .dataframe tbody tr th {\n",
       "        vertical-align: top;\n",
       "    }\n",
       "\n",
       "    .dataframe thead th {\n",
       "        text-align: right;\n",
       "    }\n",
       "</style>\n",
       "<table border=\"1\" class=\"dataframe\">\n",
       "  <thead>\n",
       "    <tr style=\"text-align: right;\">\n",
       "      <th></th>\n",
       "      <th>CustomerID</th>\n",
       "      <th>Genre</th>\n",
       "      <th>Age</th>\n",
       "      <th>Annual Income (k$)</th>\n",
       "      <th>Spending Score (1-100)</th>\n",
       "    </tr>\n",
       "  </thead>\n",
       "  <tbody>\n",
       "    <tr>\n",
       "      <th>0</th>\n",
       "      <td>1</td>\n",
       "      <td>0</td>\n",
       "      <td>19</td>\n",
       "      <td>15</td>\n",
       "      <td>39</td>\n",
       "    </tr>\n",
       "    <tr>\n",
       "      <th>1</th>\n",
       "      <td>2</td>\n",
       "      <td>0</td>\n",
       "      <td>21</td>\n",
       "      <td>15</td>\n",
       "      <td>81</td>\n",
       "    </tr>\n",
       "    <tr>\n",
       "      <th>2</th>\n",
       "      <td>3</td>\n",
       "      <td>1</td>\n",
       "      <td>20</td>\n",
       "      <td>16</td>\n",
       "      <td>6</td>\n",
       "    </tr>\n",
       "    <tr>\n",
       "      <th>3</th>\n",
       "      <td>4</td>\n",
       "      <td>1</td>\n",
       "      <td>23</td>\n",
       "      <td>16</td>\n",
       "      <td>77</td>\n",
       "    </tr>\n",
       "    <tr>\n",
       "      <th>4</th>\n",
       "      <td>5</td>\n",
       "      <td>1</td>\n",
       "      <td>31</td>\n",
       "      <td>17</td>\n",
       "      <td>40</td>\n",
       "    </tr>\n",
       "    <tr>\n",
       "      <th>...</th>\n",
       "      <td>...</td>\n",
       "      <td>...</td>\n",
       "      <td>...</td>\n",
       "      <td>...</td>\n",
       "      <td>...</td>\n",
       "    </tr>\n",
       "    <tr>\n",
       "      <th>195</th>\n",
       "      <td>196</td>\n",
       "      <td>1</td>\n",
       "      <td>35</td>\n",
       "      <td>120</td>\n",
       "      <td>79</td>\n",
       "    </tr>\n",
       "    <tr>\n",
       "      <th>196</th>\n",
       "      <td>197</td>\n",
       "      <td>1</td>\n",
       "      <td>45</td>\n",
       "      <td>126</td>\n",
       "      <td>28</td>\n",
       "    </tr>\n",
       "    <tr>\n",
       "      <th>197</th>\n",
       "      <td>198</td>\n",
       "      <td>0</td>\n",
       "      <td>32</td>\n",
       "      <td>126</td>\n",
       "      <td>74</td>\n",
       "    </tr>\n",
       "    <tr>\n",
       "      <th>198</th>\n",
       "      <td>199</td>\n",
       "      <td>0</td>\n",
       "      <td>32</td>\n",
       "      <td>137</td>\n",
       "      <td>18</td>\n",
       "    </tr>\n",
       "    <tr>\n",
       "      <th>199</th>\n",
       "      <td>200</td>\n",
       "      <td>0</td>\n",
       "      <td>30</td>\n",
       "      <td>137</td>\n",
       "      <td>83</td>\n",
       "    </tr>\n",
       "  </tbody>\n",
       "</table>\n",
       "<p>200 rows × 5 columns</p>\n",
       "</div>"
      ],
      "text/plain": [
       "     CustomerID  Genre  Age  Annual Income (k$)  Spending Score (1-100)\n",
       "0             1      0   19                  15                      39\n",
       "1             2      0   21                  15                      81\n",
       "2             3      1   20                  16                       6\n",
       "3             4      1   23                  16                      77\n",
       "4             5      1   31                  17                      40\n",
       "..          ...    ...  ...                 ...                     ...\n",
       "195         196      1   35                 120                      79\n",
       "196         197      1   45                 126                      28\n",
       "197         198      0   32                 126                      74\n",
       "198         199      0   32                 137                      18\n",
       "199         200      0   30                 137                      83\n",
       "\n",
       "[200 rows x 5 columns]"
      ]
     },
     "execution_count": 3,
     "metadata": {},
     "output_type": "execute_result"
    }
   ],
   "source": [
    "df['Genre'] = df['Genre'].map({'Male': 0,'Female': 1})\n",
    "df"
   ]
  },
  {
   "cell_type": "code",
   "execution_count": 4,
   "metadata": {},
   "outputs": [
    {
     "data": {
      "text/plain": [
       "array([[ 19,  15],\n",
       "       [ 21,  15],\n",
       "       [ 20,  16],\n",
       "       [ 23,  16],\n",
       "       [ 31,  17],\n",
       "       [ 22,  17],\n",
       "       [ 35,  18],\n",
       "       [ 23,  18],\n",
       "       [ 64,  19],\n",
       "       [ 30,  19],\n",
       "       [ 67,  19],\n",
       "       [ 35,  19],\n",
       "       [ 58,  20],\n",
       "       [ 24,  20],\n",
       "       [ 37,  20],\n",
       "       [ 22,  20],\n",
       "       [ 35,  21],\n",
       "       [ 20,  21],\n",
       "       [ 52,  23],\n",
       "       [ 35,  23],\n",
       "       [ 35,  24],\n",
       "       [ 25,  24],\n",
       "       [ 46,  25],\n",
       "       [ 31,  25],\n",
       "       [ 54,  28],\n",
       "       [ 29,  28],\n",
       "       [ 45,  28],\n",
       "       [ 35,  28],\n",
       "       [ 40,  29],\n",
       "       [ 23,  29],\n",
       "       [ 60,  30],\n",
       "       [ 21,  30],\n",
       "       [ 53,  33],\n",
       "       [ 18,  33],\n",
       "       [ 49,  33],\n",
       "       [ 21,  33],\n",
       "       [ 42,  34],\n",
       "       [ 30,  34],\n",
       "       [ 36,  37],\n",
       "       [ 20,  37],\n",
       "       [ 65,  38],\n",
       "       [ 24,  38],\n",
       "       [ 48,  39],\n",
       "       [ 31,  39],\n",
       "       [ 49,  39],\n",
       "       [ 24,  39],\n",
       "       [ 50,  40],\n",
       "       [ 27,  40],\n",
       "       [ 29,  40],\n",
       "       [ 31,  40],\n",
       "       [ 49,  42],\n",
       "       [ 33,  42],\n",
       "       [ 31,  43],\n",
       "       [ 59,  43],\n",
       "       [ 50,  43],\n",
       "       [ 47,  43],\n",
       "       [ 51,  44],\n",
       "       [ 69,  44],\n",
       "       [ 27,  46],\n",
       "       [ 53,  46],\n",
       "       [ 70,  46],\n",
       "       [ 19,  46],\n",
       "       [ 67,  47],\n",
       "       [ 54,  47],\n",
       "       [ 63,  48],\n",
       "       [ 18,  48],\n",
       "       [ 43,  48],\n",
       "       [ 68,  48],\n",
       "       [ 19,  48],\n",
       "       [ 32,  48],\n",
       "       [ 70,  49],\n",
       "       [ 47,  49],\n",
       "       [ 60,  50],\n",
       "       [ 60,  50],\n",
       "       [ 59,  54],\n",
       "       [ 26,  54],\n",
       "       [ 45,  54],\n",
       "       [ 40,  54],\n",
       "       [ 23,  54],\n",
       "       [ 49,  54],\n",
       "       [ 57,  54],\n",
       "       [ 38,  54],\n",
       "       [ 67,  54],\n",
       "       [ 46,  54],\n",
       "       [ 21,  54],\n",
       "       [ 48,  54],\n",
       "       [ 55,  57],\n",
       "       [ 22,  57],\n",
       "       [ 34,  58],\n",
       "       [ 50,  58],\n",
       "       [ 68,  59],\n",
       "       [ 18,  59],\n",
       "       [ 48,  60],\n",
       "       [ 40,  60],\n",
       "       [ 32,  60],\n",
       "       [ 24,  60],\n",
       "       [ 47,  60],\n",
       "       [ 27,  60],\n",
       "       [ 48,  61],\n",
       "       [ 20,  61],\n",
       "       [ 23,  62],\n",
       "       [ 49,  62],\n",
       "       [ 67,  62],\n",
       "       [ 26,  62],\n",
       "       [ 49,  62],\n",
       "       [ 21,  62],\n",
       "       [ 66,  63],\n",
       "       [ 54,  63],\n",
       "       [ 68,  63],\n",
       "       [ 66,  63],\n",
       "       [ 65,  63],\n",
       "       [ 19,  63],\n",
       "       [ 38,  64],\n",
       "       [ 19,  64],\n",
       "       [ 18,  65],\n",
       "       [ 19,  65],\n",
       "       [ 63,  65],\n",
       "       [ 49,  65],\n",
       "       [ 51,  67],\n",
       "       [ 50,  67],\n",
       "       [ 27,  67],\n",
       "       [ 38,  67],\n",
       "       [ 40,  69],\n",
       "       [ 39,  69],\n",
       "       [ 23,  70],\n",
       "       [ 31,  70],\n",
       "       [ 43,  71],\n",
       "       [ 40,  71],\n",
       "       [ 59,  71],\n",
       "       [ 38,  71],\n",
       "       [ 47,  71],\n",
       "       [ 39,  71],\n",
       "       [ 25,  72],\n",
       "       [ 31,  72],\n",
       "       [ 20,  73],\n",
       "       [ 29,  73],\n",
       "       [ 44,  73],\n",
       "       [ 32,  73],\n",
       "       [ 19,  74],\n",
       "       [ 35,  74],\n",
       "       [ 57,  75],\n",
       "       [ 32,  75],\n",
       "       [ 28,  76],\n",
       "       [ 32,  76],\n",
       "       [ 25,  77],\n",
       "       [ 28,  77],\n",
       "       [ 48,  77],\n",
       "       [ 32,  77],\n",
       "       [ 34,  78],\n",
       "       [ 34,  78],\n",
       "       [ 43,  78],\n",
       "       [ 39,  78],\n",
       "       [ 44,  78],\n",
       "       [ 38,  78],\n",
       "       [ 47,  78],\n",
       "       [ 27,  78],\n",
       "       [ 37,  78],\n",
       "       [ 30,  78],\n",
       "       [ 34,  78],\n",
       "       [ 30,  78],\n",
       "       [ 56,  79],\n",
       "       [ 29,  79],\n",
       "       [ 19,  81],\n",
       "       [ 31,  81],\n",
       "       [ 50,  85],\n",
       "       [ 36,  85],\n",
       "       [ 42,  86],\n",
       "       [ 33,  86],\n",
       "       [ 36,  87],\n",
       "       [ 32,  87],\n",
       "       [ 40,  87],\n",
       "       [ 28,  87],\n",
       "       [ 36,  87],\n",
       "       [ 36,  87],\n",
       "       [ 52,  88],\n",
       "       [ 30,  88],\n",
       "       [ 58,  88],\n",
       "       [ 27,  88],\n",
       "       [ 59,  93],\n",
       "       [ 35,  93],\n",
       "       [ 37,  97],\n",
       "       [ 32,  97],\n",
       "       [ 46,  98],\n",
       "       [ 29,  98],\n",
       "       [ 41,  99],\n",
       "       [ 30,  99],\n",
       "       [ 54, 101],\n",
       "       [ 28, 101],\n",
       "       [ 41, 103],\n",
       "       [ 36, 103],\n",
       "       [ 34, 103],\n",
       "       [ 32, 103],\n",
       "       [ 33, 113],\n",
       "       [ 38, 113],\n",
       "       [ 47, 120],\n",
       "       [ 35, 120],\n",
       "       [ 45, 126],\n",
       "       [ 32, 126],\n",
       "       [ 32, 137],\n",
       "       [ 30, 137]], dtype=int64)"
      ]
     },
     "execution_count": 4,
     "metadata": {},
     "output_type": "execute_result"
    }
   ],
   "source": [
    "X = df.iloc[:,2:-1].values  #independent variable array\n",
    "y = df.iloc[:,-1].values  #dependent variable vector\n",
    "X"
   ]
  },
  {
   "cell_type": "code",
   "execution_count": 5,
   "metadata": {},
   "outputs": [
    {
     "data": {
      "image/png": "[encoded data removed]",
      "text/plain": [
       "<Figure size 432x288 with 1 Axes>"
      ]
     },
     "metadata": {
      "needs_background": "light"
     },
     "output_type": "display_data"
    }
   ],
   "source": [
    "def plot(x,y):\n",
    "    plt.scatter(df[x], df[y], color='red')\n",
    "    plt.title(x+' Vs '+y, fontsize=14)\n",
    "    plt.xlabel(x, fontsize=14)\n",
    "    plt.ylabel(y, fontsize=14)\n",
    "    plt.grid(True)\n",
    "    plt.show()\n",
    "    \n",
    "plot('Genre','Spending Score (1-100)')"
   ]
  },
  {
   "cell_type": "code",
   "execution_count": 6,
   "metadata": {},
   "outputs": [
    {
     "data": {
      "image/png": "[encoded data removed]",
      "text/plain": [
       "<Figure size 432x288 with 1 Axes>"
      ]
     },
     "metadata": {
      "needs_background": "light"
     },
     "output_type": "display_data"
    }
   ],
   "source": [
    "plot('Age','Spending Score (1-100)')"
   ]
  },
  {
   "cell_type": "code",
   "execution_count": 7,
   "metadata": {},
   "outputs": [
    {
     "data": {
      "image/png": "[encoded data removed]",
      "text/plain": [
       "<Figure size 432x288 with 1 Axes>"
      ]
     },
     "metadata": {
      "needs_background": "light"
     },
     "output_type": "display_data"
    }
   ],
   "source": [
    "plot('Annual Income (k$)','Spending Score (1-100)')"
   ]
  },
  {
   "cell_type": "code",
   "execution_count": 8,
   "metadata": {},
   "outputs": [
    {
     "data": {
      "text/plain": [
       "<AxesSubplot:>"
      ]
     },
     "execution_count": 8,
     "metadata": {},
     "output_type": "execute_result"
    },
    {
     "data": {
      "image/png": "[encoded data removed]",
      "text/plain": [
       "<Figure size 1080x1080 with 1 Axes>"
      ]
     },
     "metadata": {
      "needs_background": "light"
     },
     "output_type": "display_data"
    }
   ],
   "source": [
    "pd.plotting.boxplot_frame(df[df.columns.difference(['CustomerID'])],figsize=(15,15))"
   ]
  },
  {
   "cell_type": "code",
   "execution_count": 9,
   "metadata": {},
   "outputs": [
    {
     "data": {
      "text/plain": [
       "CustomerID                0.013835\n",
       "Genre                     0.058109\n",
       "Age                      -0.327227\n",
       "Annual Income (k$)        0.009903\n",
       "Spending Score (1-100)    1.000000\n",
       "dtype: float64"
      ]
     },
     "execution_count": 9,
     "metadata": {},
     "output_type": "execute_result"
    }
   ],
   "source": [
    "df.corrwith(df['Spending Score (1-100)'])"
   ]
  },
  {
   "cell_type": "code",
   "execution_count": null,
   "metadata": {},
   "outputs": [],
   "source": []
  },
  {
   "cell_type": "markdown",
   "metadata": {},
   "source": [
    "# My Implementation"
   ]
  },
  {
   "cell_type": "code",
   "execution_count": 275,
   "metadata": {},
   "outputs": [],
   "source": [
    "class GD_LinearRegression:\n",
    "    def __init__(self):\n",
    "        self.trained = False\n",
    "        self.b = 0\n",
    "    def train(self,x,y,alpha,iteration,ds_cost):\n",
    "        self.trained = True\n",
    "        m=len(x)\n",
    "        \n",
    "        self.b = np.zeros(x.shape[1])\n",
    "        x_transpose = x.T\n",
    "        it = []\n",
    "        cost_l = []\n",
    "        for epoch in range(iteration):\n",
    "            h=x@(self.b)\n",
    "            grad=(x_transpose@(h-y)) / m\n",
    "            self.b=self.b-(alpha*grad)\n",
    "            it.append(epoch)\n",
    "            cost = self.cost(x,y)\n",
    "            cost_l.append(cost)\n",
    "            if cost <= ds_cost:\n",
    "                break\n",
    "        return it, cost_l, self.b\n",
    "            \n",
    "        \n",
    "    def predict(self,x):\n",
    "        if self.trained:\n",
    "            h = x.dot(self.b)\n",
    "            return h\n",
    "        else:\n",
    "            return print('Please train your model first')\n",
    "        \n",
    "    def cost(self,x,y):\n",
    "        m=len(x)\n",
    "        h = self.predict(x)\n",
    "        return sum((h-y)**2)/m\n",
    "    \n",
    "    def plot(self,x,y,c_num):\n",
    "        h = self.predict(x)\n",
    "        plt.plot(x[:,c_num],h,c='r')\n",
    "        plt.scatter(x[:,c_num],y,c='b')\n",
    "        plt.show()\n",
    "        \n",
    "    def R2(self,x,y):\n",
    "        h = self.predict(x)\n",
    "        ymean = np.mean(y)\n",
    "        ssres = sum((y-h)**2)\n",
    "        sstot = sum((y-ymean)**2)\n",
    "        r2 = 1-(ssres/sstot)\n",
    "        return r2"
   ]
  },
  {
   "cell_type": "code",
   "execution_count": 352,
   "metadata": {},
   "outputs": [],
   "source": [
    "X = df.iloc[:,2:-1].values\n",
    "y = df.iloc[:,-1]"
   ]
  },
  {
   "cell_type": "code",
   "execution_count": 353,
   "metadata": {},
   "outputs": [
    {
     "name": "stdout",
     "output_type": "stream",
     "text": [
      "(200, 3)\n"
     ]
    },
    {
     "data": {
      "text/plain": [
       "(200,)"
      ]
     },
     "execution_count": 353,
     "metadata": {},
     "output_type": "execute_result"
    }
   ],
   "source": [
    "# X = (X - X.mean()) / X.std()\n",
    "X = np.insert(X,0,np.ones(len(X)),axis=1)\n",
    "# y = (y - y.mean()) / y.std()\n",
    "print(X.shape)\n",
    "y.shape"
   ]
  },
  {
   "cell_type": "code",
   "execution_count": 359,
   "metadata": {
    "scrolled": true
   },
   "outputs": [
    {
     "name": "stdout",
     "output_type": "stream",
     "text": [
      "thetas:  [1.53350721 0.41220625 0.45614329]\n",
      "Number of Itreation Before Break is : 999\n",
      "Final Cost 953.63588447059\n",
      "Spending Score For Male in 35 that has 44k as income : 36.03103054907116\n"
     ]
    },
    {
     "data": {
      "image/png": "[encoded data removed]",
      "text/plain": [
       "<Figure size 432x288 with 1 Axes>"
      ]
     },
     "metadata": {
      "needs_background": "light"
     },
     "output_type": "display_data"
    }
   ],
   "source": [
    "lin2 = GD_LinearRegression()\n",
    "it,cost_l,thetas = lin2.train(X,y,0.0003,1000,0.317)\n",
    "print('thetas: ',thetas)\n",
    "\n",
    "print('Number of Itreation Before Break is :',it[-1])\n",
    "\n",
    "print(\"Final Cost\",cost_l[-1])\n",
    "\n",
    "predict_point = thetas[0] + 35 * thetas[1] + 44 * thetas[2]\n",
    "print('Spending Score For Male in 35 that has 44k as income :',predict_point)\n",
    "\n",
    "lin2.plot(X,y,2)"
   ]
  },
  {
   "cell_type": "code",
   "execution_count": 360,
   "metadata": {},
   "outputs": [
    {
     "data": {
      "text/plain": [
       "-0.4372375881218211"
      ]
     },
     "execution_count": 360,
     "metadata": {},
     "output_type": "execute_result"
    }
   ],
   "source": [
    "lin2.R2(X,y)"
   ]
  },
  {
   "cell_type": "code",
   "execution_count": 361,
   "metadata": {},
   "outputs": [
    {
     "data": {
      "image/png": "[encoded data removed]",
      "text/plain": [
       "<Figure size 432x288 with 1 Axes>"
      ]
     },
     "metadata": {
      "needs_background": "light"
     },
     "output_type": "display_data"
    }
   ],
   "source": [
    "plt.plot(it,cost_l,c='r')\n",
    "plt.ylabel(\"Number of Itreation\")\n",
    "plt.xlabel(\"Cost\")\n",
    "plt.title('loss vs. iterations')\n",
    "plt.show()"
   ]
  },
  {
   "cell_type": "code",
   "execution_count": null,
   "metadata": {},
   "outputs": [],
   "source": []
  },
  {
   "cell_type": "code",
   "execution_count": null,
   "metadata": {},
   "outputs": [],
   "source": []
  },
  {
   "cell_type": "markdown",
   "metadata": {},
   "source": [
    "# Normal Equation"
   ]
  },
  {
   "cell_type": "code",
   "execution_count": 181,
   "metadata": {
    "scrolled": true
   },
   "outputs": [
    {
     "name": "stdout",
     "output_type": "stream",
     "text": [
      "[ 7.33478522e+01 -6.04787258e-01  5.74855922e-03]\n",
      "[61.94312271 60.73354819 61.34408401 59.52972224 54.69717273 60.14025806\n",
      " 52.28377226 59.54121936 34.75069034 55.31345711 32.93632857 52.28952082\n",
      " 38.38516245 58.94792922 51.08569486 60.15750373 52.30101794 61.37282681\n",
      " 42.03113167 52.31251506 52.31826362 58.3661362  45.67135234 54.74316121\n",
      " 40.85029995 55.9699814  46.29338528 52.34125785 49.32307012 59.60445351\n",
      " 37.23307353 60.81977658 41.48383001 62.65138403 43.90297904 60.83702226\n",
      " 48.1422384  55.3996855  51.78820763 61.46480376 34.25512571 59.05140328\n",
      " 44.54225765 54.82364104 43.9374704  59.05715184 43.3384317  57.24853863\n",
      " 56.03896411 54.8293896  43.95471607 53.6313122  54.84663527 37.91259205\n",
      " 43.35567737 45.17003915 42.75663868 31.87046803 57.28302998 41.55856128\n",
      " 31.27717789 62.12132805 33.09728823 40.95952258 35.52218582 62.73761242\n",
      " 47.61793098 32.49824953 62.13282516 54.27059081 31.29442357 45.2045305\n",
      " 37.34804471 37.34804471 37.97582621 57.93380572 46.44284782 49.4667841\n",
      " 59.74816749 44.02369878 39.18540072 50.67635862 33.13752814 45.83806056\n",
      " 60.957742   44.62848604 40.41222091 60.37020042 53.11850189 43.44190576\n",
      " 32.56148368 62.80084657 44.6629774  49.50127546 54.33957352 59.17787159\n",
      " 45.26776466 57.36350981 44.66872596 61.60276918 59.79415596 44.06968726\n",
      " 33.18351662 57.97979419 44.06968726 61.00373048 33.79405243 41.05149953\n",
      " 32.58447792 33.79405243 34.39883969 62.21905355 50.73384421 62.22480211\n",
      " 62.83533793 62.23055067 35.61991133 44.08693294 42.88885554 43.4936428\n",
      " 57.40374973 50.75108989 49.55301249 50.15779975 59.84014444 55.00184637\n",
      " 47.75014784 49.56450961 38.07355171 50.77408413 45.33099881 50.16929687\n",
      " 58.64206704 55.01334349 61.67175189 56.22866657 47.1568577  54.41430479\n",
      " 62.2822877  52.60569158 39.30612046 54.42580191 56.8506995  54.43155047\n",
      " 58.67080984 56.85644806 44.7607029  54.43729903 53.23347307 53.23347307\n",
      " 47.79038775 50.20953678 47.18560049 50.81432404 45.37123872 57.46698388\n",
      " 51.4191113  55.65262211 53.23347307 55.65262211 39.93390196 56.26315792\n",
      " 62.32252762 55.06508052 43.59711686 52.06413847 48.44116348 53.88424881\n",
      " 52.07563559 54.49478462 49.65648656 56.91393365 52.07563559 52.07563559\n",
      " 42.40478802 55.7101077  38.77606448 57.52446947 38.20002002 52.7149142\n",
      " 51.52833393 54.55227021 46.09099716 56.37238055 49.12068201 55.77334185\n",
      " 41.26994478 56.99441348 49.14367625 52.16761254 53.37718705 54.58676157\n",
      " 54.0394599  51.01552361 45.61267821 52.8701253  46.85674408 54.71897843\n",
      " 54.78221258 55.9917871 ]\n"
     ]
    }
   ],
   "source": [
    "x = df.iloc[:,2:-1].values\n",
    "x = np.insert(x,0,np.ones(len(x)),axis=1)\n",
    "y = df.iloc[:,-1]\n",
    "\n",
    "theta = np.linalg.inv(x.T.dot(x)).dot(x.T).dot(y.T) # normal equation\n",
    "print(theta)\n",
    "h = x.dot(theta)\n",
    "print(h)"
   ]
  },
  {
   "cell_type": "code",
   "execution_count": 182,
   "metadata": {},
   "outputs": [
    {
     "data": {
      "text/plain": [
       "52.43323480207317"
      ]
     },
     "execution_count": 182,
     "metadata": {},
     "output_type": "execute_result"
    }
   ],
   "source": [
    "predict_point = theta[0] + 35 * theta[1] + 44 * theta[2]\n",
    "predict_point"
   ]
  },
  {
   "cell_type": "markdown",
   "metadata": {},
   "source": [
    "# sklearn for multiple regression"
   ]
  },
  {
   "cell_type": "markdown",
   "metadata": {},
   "source": [
    "# With Polynomial"
   ]
  },
  {
   "cell_type": "code",
   "execution_count": 114,
   "metadata": {},
   "outputs": [],
   "source": [
    "X = df.iloc[:,2:-1].values\n",
    "y = df.iloc[:,-1]"
   ]
  },
  {
   "cell_type": "code",
   "execution_count": 115,
   "metadata": {},
   "outputs": [],
   "source": [
    "from sklearn.preprocessing import PolynomialFeatures\n",
    "\n",
    "poly_regs= PolynomialFeatures(degree= 5)  \n",
    "x_poly= poly_regs.fit_transform(X)\n",
    "# x_poly = np.insert(x_poly,x_poly.shape[1],df['Genre'].values,axis=1)"
   ]
  },
  {
   "cell_type": "code",
   "execution_count": 116,
   "metadata": {},
   "outputs": [
    {
     "data": {
      "text/plain": [
       "array([[1.00000000e+00, 1.90000000e+01, 1.50000000e+01, ...,\n",
       "        1.21837500e+06, 9.61875000e+05, 7.59375000e+05],\n",
       "       [1.00000000e+00, 2.10000000e+01, 1.50000000e+01, ...,\n",
       "        1.48837500e+06, 1.06312500e+06, 7.59375000e+05],\n",
       "       [1.00000000e+00, 2.00000000e+01, 1.60000000e+01, ...,\n",
       "        1.63840000e+06, 1.31072000e+06, 1.04857600e+06],\n",
       "       ...,\n",
       "       [1.00000000e+00, 3.20000000e+01, 1.26000000e+02, ...,\n",
       "        2.04838502e+09, 8.06551603e+09, 3.17579694e+10],\n",
       "       [1.00000000e+00, 3.20000000e+01, 1.37000000e+02, ...,\n",
       "        2.63306547e+09, 1.12728116e+10, 4.82617245e+10],\n",
       "       [1.00000000e+00, 3.00000000e+01, 1.37000000e+02, ...,\n",
       "        2.31421770e+09, 1.05682608e+10, 4.82617245e+10]])"
      ]
     },
     "execution_count": 116,
     "metadata": {},
     "output_type": "execute_result"
    }
   ],
   "source": [
    "x_poly"
   ]
  },
  {
   "cell_type": "code",
   "execution_count": 117,
   "metadata": {},
   "outputs": [
    {
     "data": {
      "text/plain": [
       "0.44118790774160344"
      ]
     },
     "execution_count": 117,
     "metadata": {},
     "output_type": "execute_result"
    }
   ],
   "source": [
    "from sklearn import linear_model\n",
    "import statsmodels.api as sm\n",
    "\n",
    "# with sklearn\n",
    "regr = linear_model.LinearRegression()\n",
    "regr.fit(x_poly, y)\n",
    "\n",
    "# print('Intercept: \\n', regr.intercept_)\n",
    "# print('Coefficients: \\n', regr.coef_)\n",
    "\n",
    "# prediction with sklearn\n",
    "\n",
    "# print ('Predicted Stock Index Price: \\n', regr.predict([[New_1 ,New_2,New_3]]))\n",
    "\n",
    "regr.score(x_poly,y)\n"
   ]
  },
  {
   "cell_type": "code",
   "execution_count": 118,
   "metadata": {},
   "outputs": [
    {
     "name": "stdout",
     "output_type": "stream",
     "text": [
      "Spending Score For Male in 35 that has 44k as income : [47.94631886]\n"
     ]
    }
   ],
   "source": [
    "age = 35\n",
    "income = 44\n",
    "gender = 0\n",
    "l = np.array([[age,income]])\n",
    "poly_regs= PolynomialFeatures(degree= 5)  \n",
    "to_predict= poly_regs.fit_transform(l)\n",
    "print('Spending Score For Male in 35 that has 44k as income :',regr.predict(to_predict))"
   ]
  },
  {
   "cell_type": "markdown",
   "metadata": {},
   "source": [
    "# Without Polynomial"
   ]
  },
  {
   "cell_type": "code",
   "execution_count": 325,
   "metadata": {},
   "outputs": [],
   "source": [
    "X = df.iloc[:,2:-1].values\n",
    "y = df.iloc[:,-1]"
   ]
  },
  {
   "cell_type": "code",
   "execution_count": 327,
   "metadata": {},
   "outputs": [
    {
     "name": "stdout",
     "output_type": "stream",
     "text": [
      "Intercept: \n",
      " 73.34785222186397\n",
      "Coefficients: \n",
      " [-0.60478726  0.00574856]\n"
     ]
    },
    {
     "data": {
      "text/plain": [
       "0.10711158828485168"
      ]
     },
     "execution_count": 327,
     "metadata": {},
     "output_type": "execute_result"
    }
   ],
   "source": [
    "from sklearn import linear_model\n",
    "import statsmodels.api as sm\n",
    "\n",
    "# with sklearn\n",
    "regr = linear_model.LinearRegression()\n",
    "regr.fit(X, y)\n",
    "\n",
    "theta = regr.coef_\n",
    "print('Intercept: \\n', regr.intercept_)\n",
    "print('Coefficients: \\n', theta)\n",
    "\n",
    "# prediction with sklearn\n",
    "\n",
    "regr.score(X,y)\n"
   ]
  },
  {
   "cell_type": "code",
   "execution_count": 328,
   "metadata": {},
   "outputs": [
    {
     "name": "stdout",
     "output_type": "stream",
     "text": [
      "Spending Score For Male in 35 that has 44k as income : [52.4332348]\n"
     ]
    }
   ],
   "source": [
    "# prediction with sklearn\n",
    "age = 35\n",
    "income = 44\n",
    "gender = 0\n",
    "to_predict = np.array([[age,income]])\n",
    "print('Spending Score For Male in 35 that has 44k as income :',regr.predict(to_predict))"
   ]
  },
  {
   "cell_type": "code",
   "execution_count": 329,
   "metadata": {},
   "outputs": [
    {
     "data": {
      "text/plain": [
       "52.43323480207328"
      ]
     },
     "execution_count": 329,
     "metadata": {},
     "output_type": "execute_result"
    }
   ],
   "source": [
    "\n",
    "predict_point = 35 * theta[0] + 44 * theta[1] + regr.intercept_\n",
    "predict_point"
   ]
  }
 ],
 "metadata": {
  "kernelspec": {
   "display_name": "Python 3",
   "language": "python",
   "name": "python3"
  },
  "language_info": {
   "codemirror_mode": {
    "name": "ipython",
    "version": 3
   },
   "file_extension": ".py",
   "mimetype": "text/x-python",
   "name": "python",
   "nbconvert_exporter": "python",
   "pygments_lexer": "ipython3",
   "version": "3.8.5"
  }
 },
 "nbformat": 4,
 "nbformat_minor": 4
}
