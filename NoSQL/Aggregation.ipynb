{
 "cells": [
  {
   "cell_type": "code",
   "execution_count": 1,
   "metadata": {},
   "outputs": [],
   "source": [
    "from pymongo import MongoClient"
   ]
  },
  {
   "cell_type": "markdown",
   "metadata": {},
   "source": [
    "# Connecting to MongoDB"
   ]
  },
  {
   "cell_type": "code",
   "execution_count": 2,
   "metadata": {},
   "outputs": [],
   "source": [
    "client = MongoClient(\"mongodb://localhost:27017\")"
   ]
  },
  {
   "cell_type": "markdown",
   "metadata": {},
   "source": [
    "# Helper Functions"
   ]
  },
  {
   "cell_type": "code",
   "execution_count": 3,
   "metadata": {},
   "outputs": [],
   "source": [
    "def print_cursor(c):\n",
    "    for i in cursor:\n",
    "        print(i)"
   ]
  },
  {
   "cell_type": "markdown",
   "metadata": {},
   "source": [
    "# Dataset 1"
   ]
  },
  {
   "cell_type": "code",
   "execution_count": 4,
   "metadata": {},
   "outputs": [],
   "source": [
    "db = client.universities"
   ]
  },
  {
   "cell_type": "code",
   "execution_count": 5,
   "metadata": {},
   "outputs": [],
   "source": [
    "client.drop_database(\"universities\")"
   ]
  },
  {
   "cell_type": "code",
   "execution_count": 6,
   "metadata": {},
   "outputs": [
    {
     "data": {
      "text/plain": [
       "<pymongo.results.InsertManyResult at 0x263b386b640>"
      ]
     },
     "execution_count": 6,
     "metadata": {},
     "output_type": "execute_result"
    }
   ],
   "source": [
    "db.universities.insert_many([\n",
    "{\n",
    "  \"country\" : \"Spain\",\n",
    "  \"city\" : \"Salamanca\",\n",
    "  \"name\" : \"USAL\",\n",
    "  \"location\" : {\n",
    "    \"type\" : \"Point\",\n",
    "    \"coordinates\" : [ -5.6722512,17, 40.9607792 ]\n",
    "  },\n",
    "  \"students\" : [\n",
    "    { \"year\" : 2014, \"number\" : 24774 },\n",
    "    { \"year\" : 2015, \"number\" : 23166 },\n",
    "    { \"year\" : 2016, \"number\" : 21913 },\n",
    "    { \"year\" : 2017, \"number\" : 21715 }\n",
    "  ]\n",
    "},\n",
    "{\n",
    "  \"country\" : \"Spain\",\n",
    "  \"city\" : \"Salamanca\",\n",
    "  \"name\" : \"UPSA\",\n",
    "  \"location\" : {\n",
    "    \"type\" : \"Point\",\n",
    "    \"coordinates\" : [ -5.6691191,17, 40.9631732 ]\n",
    "  },\n",
    "  \"students\" : [\n",
    "    { \"year\" : 2014, \"number\" : 4788 },\n",
    "    { \"year\" : 2015, \"number\" : 4821 },\n",
    "    { \"year\" : 2016, \"number\" : 6550 },\n",
    "    { \"year\" : 2017, \"number\" : 6125 }\n",
    "  ]\n",
    "}\n",
    "])\n",
    "\n",
    "\n",
    "db.courses.insert_many([\n",
    "{\n",
    "  \"university\" : \"USAL\",\n",
    "  \"name\" : \"Computer Science\",\n",
    "  \"level\" : \"Excellent\"\n",
    "},\n",
    "{\n",
    "  \"university\" : \"USAL\",\n",
    "  \"name\" : \"Electronics\",\n",
    "  \"level\" : \"Intermediate\"\n",
    "},\n",
    "{\n",
    "  \"university\" : \"USAL\",\n",
    "  \"name\" : \"Communication\",\n",
    "  \"level\" : \"Excellent\"\n",
    "}\n",
    "])"
   ]
  },
  {
   "cell_type": "markdown",
   "metadata": {},
   "source": [
    "# Aggregation stages"
   ]
  },
  {
   "cell_type": "markdown",
   "metadata": {},
   "source": [
    "## MongoDB `$match`"
   ]
  },
  {
   "cell_type": "code",
   "execution_count": 7,
   "metadata": {},
   "outputs": [
    {
     "name": "stdout",
     "output_type": "stream",
     "text": [
      "{'_id': ObjectId('6127b3f7876269d2c1724738'), 'country': 'Spain', 'city': 'Salamanca', 'name': 'USAL', 'location': {'type': 'Point', 'coordinates': [-5.6722512, 17, 40.9607792]}, 'students': [{'year': 2014, 'number': 24774}, {'year': 2015, 'number': 23166}, {'year': 2016, 'number': 21913}, {'year': 2017, 'number': 21715}]}\n",
      "{'_id': ObjectId('6127b3f7876269d2c1724739'), 'country': 'Spain', 'city': 'Salamanca', 'name': 'UPSA', 'location': {'type': 'Point', 'coordinates': [-5.6691191, 17, 40.9631732]}, 'students': [{'year': 2014, 'number': 4788}, {'year': 2015, 'number': 4821}, {'year': 2016, 'number': 6550}, {'year': 2017, 'number': 6125}]}\n"
     ]
    }
   ],
   "source": [
    "cursor = db.universities.aggregate([\n",
    "  { \"$match\" : { \"country\" : \"Spain\", \"city\" : \"Salamanca\" } }\n",
    "])\n",
    "\n",
    "print_cursor(cursor)"
   ]
  },
  {
   "cell_type": "markdown",
   "metadata": {},
   "source": [
    "## MongoDB `$project`"
   ]
  },
  {
   "cell_type": "code",
   "execution_count": 8,
   "metadata": {},
   "outputs": [
    {
     "name": "stdout",
     "output_type": "stream",
     "text": [
      "{'country': 'Spain', 'city': 'Salamanca', 'name': 'USAL'}\n",
      "{'country': 'Spain', 'city': 'Salamanca', 'name': 'UPSA'}\n"
     ]
    }
   ],
   "source": [
    "cursor = db.universities.aggregate([\n",
    "  { \"$project\" : { \"_id\" : 0, \"country\" : 1, \"city\" : 1, \"name\" : 1 } }\n",
    "])\n",
    "\n",
    "print_cursor(cursor)"
   ]
  },
  {
   "cell_type": "markdown",
   "metadata": {},
   "source": [
    "## MongoDB `$group`"
   ]
  },
  {
   "cell_type": "code",
   "execution_count": 9,
   "metadata": {},
   "outputs": [
    {
     "name": "stdout",
     "output_type": "stream",
     "text": [
      "{'_id': 'USAL', 'totaldocs': 1}\n",
      "{'_id': 'UPSA', 'totaldocs': 1}\n"
     ]
    }
   ],
   "source": [
    "cursor = db.universities.aggregate([\n",
    "  { \"$group\" : { \"_id\" : \"$name\", \"totaldocs\" : { \"$sum\" : 1 } } }\n",
    "])\n",
    "\n",
    "print_cursor(cursor)"
   ]
  },
  {
   "cell_type": "markdown",
   "metadata": {},
   "source": [
    "## MongoDB `$out`"
   ]
  },
  {
   "cell_type": "code",
   "execution_count": 10,
   "metadata": {},
   "outputs": [
    {
     "name": "stdout",
     "output_type": "stream",
     "text": [
      "{'_id': 'UPSA', 'totaldocs': 1}\n",
      "{'_id': 'USAL', 'totaldocs': 1}\n"
     ]
    }
   ],
   "source": [
    "db.universities.aggregate([\n",
    "  { \"$group\" : { \"_id\" : \"$name\", \"totaldocs\" : { \"$sum\" : 1 } } },\n",
    "  { \"$out\" : \"aggResults\" }\n",
    "])\n",
    "\n",
    "cursor = db.aggResults.find()\n",
    "print_cursor(cursor)"
   ]
  },
  {
   "cell_type": "markdown",
   "metadata": {},
   "source": [
    "## MongoDB `$unwind`"
   ]
  },
  {
   "cell_type": "code",
   "execution_count": 11,
   "metadata": {},
   "outputs": [
    {
     "name": "stdout",
     "output_type": "stream",
     "text": [
      "{'_id': ObjectId('6127b3f7876269d2c1724738'), 'country': 'Spain', 'city': 'Salamanca', 'name': 'USAL', 'location': {'type': 'Point', 'coordinates': [-5.6722512, 17, 40.9607792]}, 'students': {'year': 2014, 'number': 24774}}\n",
      "{'_id': ObjectId('6127b3f7876269d2c1724738'), 'country': 'Spain', 'city': 'Salamanca', 'name': 'USAL', 'location': {'type': 'Point', 'coordinates': [-5.6722512, 17, 40.9607792]}, 'students': {'year': 2015, 'number': 23166}}\n",
      "{'_id': ObjectId('6127b3f7876269d2c1724738'), 'country': 'Spain', 'city': 'Salamanca', 'name': 'USAL', 'location': {'type': 'Point', 'coordinates': [-5.6722512, 17, 40.9607792]}, 'students': {'year': 2016, 'number': 21913}}\n",
      "{'_id': ObjectId('6127b3f7876269d2c1724738'), 'country': 'Spain', 'city': 'Salamanca', 'name': 'USAL', 'location': {'type': 'Point', 'coordinates': [-5.6722512, 17, 40.9607792]}, 'students': {'year': 2017, 'number': 21715}}\n"
     ]
    }
   ],
   "source": [
    "cursor = db.universities.aggregate([\n",
    "  { \"$match\" : { \"name\" : \"USAL\" } },\n",
    "  { \"$unwind\" : \"$students\" }\n",
    "])\n",
    "\n",
    "print_cursor(cursor)"
   ]
  },
  {
   "cell_type": "markdown",
   "metadata": {},
   "source": [
    "## MongoDB `$sort`"
   ]
  },
  {
   "cell_type": "code",
   "execution_count": 12,
   "metadata": {},
   "outputs": [
    {
     "name": "stdout",
     "output_type": "stream",
     "text": [
      "{'students': {'year': 2014, 'number': 24774}}\n",
      "{'students': {'year': 2015, 'number': 23166}}\n",
      "{'students': {'year': 2016, 'number': 21913}}\n",
      "{'students': {'year': 2017, 'number': 21715}}\n"
     ]
    }
   ],
   "source": [
    "cursor = db.universities.aggregate([\n",
    "  { \"$match\" : { \"name\" : \"USAL\" } },\n",
    "  { \"$unwind\" : \"$students\" },\n",
    "  { \"$project\" : { \"_id\" : 0, \"students.year\" : 1, \"students.number\" : 1 } },\n",
    "  { \"$sort\" : { \"students.number\" : -1 } }\n",
    "])\n",
    "\n",
    "print_cursor(cursor)"
   ]
  },
  {
   "cell_type": "markdown",
   "metadata": {},
   "source": [
    "## MongoDB `$limit`"
   ]
  },
  {
   "cell_type": "code",
   "execution_count": 13,
   "metadata": {},
   "outputs": [
    {
     "name": "stdout",
     "output_type": "stream",
     "text": [
      "{'students': {'year': 2014, 'number': 24774}}\n",
      "{'students': {'year': 2015, 'number': 23166}}\n"
     ]
    }
   ],
   "source": [
    "cursor = db.universities.aggregate([\n",
    "  { \"$match\" : { \"name\" : \"USAL\" } },\n",
    "  { \"$unwind\" : \"$students\" },\n",
    "  { \"$project\" : { \"_id\" : 0, \"students.year\" : 1, \"students.number\" : 1 } },\n",
    "  { \"$sort\" : { \"students.number\" : -1 } },\n",
    "  { \"$limit\" : 2 }\n",
    "])\n",
    "\n",
    "print_cursor(cursor)"
   ]
  },
  {
   "cell_type": "markdown",
   "metadata": {},
   "source": [
    "## MongoDB `$addFields`"
   ]
  },
  {
   "cell_type": "code",
   "execution_count": 14,
   "metadata": {},
   "outputs": [
    {
     "name": "stdout",
     "output_type": "stream",
     "text": [
      "{'_id': ObjectId('6127b3f7876269d2c1724738'), 'country': 'Spain', 'city': 'Salamanca', 'name': 'USAL', 'location': {'type': 'Point', 'coordinates': [-5.6722512, 17, 40.9607792]}, 'students': [{'year': 2014, 'number': 24774}, {'year': 2015, 'number': 23166}, {'year': 2016, 'number': 21913}, {'year': 2017, 'number': 21715}], 'foundation_year': 1218}\n"
     ]
    }
   ],
   "source": [
    "cursor = db.universities.aggregate([\n",
    "  { \"$match\" : { \"name\" : \"USAL\" } },\n",
    "  { \"$addFields\" : { \"foundation_year\" : 1218 } }\n",
    "])\n",
    "\n",
    "print_cursor(cursor)"
   ]
  },
  {
   "cell_type": "markdown",
   "metadata": {},
   "source": [
    "## MongoDB `$count`"
   ]
  },
  {
   "cell_type": "code",
   "execution_count": 15,
   "metadata": {},
   "outputs": [
    {
     "name": "stdout",
     "output_type": "stream",
     "text": [
      "{'total_documents': 8}\n"
     ]
    }
   ],
   "source": [
    "cursor = db.universities.aggregate([\n",
    "  { \"$unwind\" : \"$students\" },\n",
    "  { \"$count\" : \"total_documents\" }\n",
    "])\n",
    "\n",
    "print_cursor(cursor)"
   ]
  },
  {
   "cell_type": "markdown",
   "metadata": {},
   "source": [
    "## MongoDB `$lookup`"
   ]
  },
  {
   "cell_type": "markdown",
   "metadata": {},
   "source": [
    "If you want this query to run fast, you are going to need to index the `name` field in the `universities` collection and the `university` field in the `courses` collection."
   ]
  },
  {
   "cell_type": "code",
   "execution_count": 16,
   "metadata": {},
   "outputs": [
    {
     "name": "stdout",
     "output_type": "stream",
     "text": [
      "{'name': 'USAL', 'courses': [{'_id': ObjectId('6127b3f7876269d2c172473a'), 'university': 'USAL', 'name': 'Computer Science', 'level': 'Excellent'}, {'_id': ObjectId('6127b3f7876269d2c172473b'), 'university': 'USAL', 'name': 'Electronics', 'level': 'Intermediate'}, {'_id': ObjectId('6127b3f7876269d2c172473c'), 'university': 'USAL', 'name': 'Communication', 'level': 'Excellent'}]}\n"
     ]
    }
   ],
   "source": [
    "cursor = db.universities.aggregate([\n",
    "  { \"$match\" : { \"name\" : \"USAL\" } },\n",
    "  { \"$project\" : { \"_id\" : 0, \"name\" : 1 } },\n",
    "  { \"$lookup\" : {\n",
    "      \"from\" : \"courses\",\n",
    "      \"localField\" : \"name\",\n",
    "      \"foreignField\" : \"university\",\n",
    "      \"as\" : \"courses\"\n",
    "  } }\n",
    "])\n",
    "\n",
    "print_cursor(cursor)"
   ]
  },
  {
   "cell_type": "markdown",
   "metadata": {},
   "source": [
    "## MongoDB `$sortByCount`"
   ]
  },
  {
   "cell_type": "markdown",
   "metadata": {},
   "source": [
    "This stage is a shortcut for grouping, counting and then sorting in descending order the number of different values in a field."
   ]
  },
  {
   "cell_type": "code",
   "execution_count": 17,
   "metadata": {},
   "outputs": [
    {
     "name": "stdout",
     "output_type": "stream",
     "text": [
      "{'_id': 'Excellent', 'count': 2}\n",
      "{'_id': 'Intermediate', 'count': 1}\n"
     ]
    }
   ],
   "source": [
    "cursor = db.courses.aggregate([\n",
    "  { \"$sortByCount\" : \"$level\" }\n",
    "])\n",
    "\n",
    "print_cursor(cursor)"
   ]
  },
  {
   "cell_type": "markdown",
   "metadata": {},
   "source": [
    "## MongoDB `$facet`"
   ]
  },
  {
   "cell_type": "markdown",
   "metadata": {},
   "source": [
    "Sometimes when creating a report on data, you find that you need to do the same preliminary processing for a number of reports, and you are faced with having to create and maintain an intermediate collection."
   ]
  },
  {
   "cell_type": "code",
   "execution_count": 18,
   "metadata": {
    "scrolled": true
   },
   "outputs": [
    {
     "name": "stdout",
     "output_type": "stream",
     "text": [
      "{'_id': ObjectId('6127b3f7876269d2c1724738'), 'country': 'Spain', 'city': 'Salamanca', 'name': 'USAL', 'location': {'type': 'Point', 'coordinates': [-5.6722512, 17, 40.9607792]}, 'students': [{'year': 2014, 'number': 24774}, {'year': 2015, 'number': 23166}, {'year': 2016, 'number': 21913}, {'year': 2017, 'number': 21715}], 'courses': [{'_id': ObjectId('6127b3f7876269d2c172473a'), 'university': 'USAL', 'name': 'Computer Science', 'level': 'Excellent'}, {'_id': ObjectId('6127b3f7876269d2c172473b'), 'university': 'USAL', 'name': 'Electronics', 'level': 'Intermediate'}, {'_id': ObjectId('6127b3f7876269d2c172473c'), 'university': 'USAL', 'name': 'Communication', 'level': 'Excellent'}]}\n"
     ]
    }
   ],
   "source": [
    "cursor = db.universities.aggregate([\n",
    "  { \"$match\" : { \"name\" : \"USAL\" } },\n",
    "  { \"$lookup\" : {\n",
    "      \"from\" : \"courses\",\n",
    "      \"localField\" : \"name\",\n",
    "      \"foreignField\" : \"university\",\n",
    "      \"as\" : \"courses\"\n",
    "  } }\n",
    "])\n",
    "\n",
    "print_cursor(cursor)"
   ]
  },
  {
   "cell_type": "code",
   "execution_count": 19,
   "metadata": {
    "scrolled": true
   },
   "outputs": [
    {
     "name": "stdout",
     "output_type": "stream",
     "text": [
      "{'_id': 'Excellent', 'count': 2}\n",
      "{'_id': 'Intermediate', 'count': 1}\n"
     ]
    }
   ],
   "source": [
    "cursor = db.universities.aggregate([\n",
    "  { \"$match\" : { \"name\" : \"USAL\" } },\n",
    "  { \"$lookup\" : {\n",
    "      \"from\" : \"courses\",\n",
    "      \"localField\" : \"name\",\n",
    "      \"foreignField\" : \"university\",\n",
    "      \"as\" : \"courses\"\n",
    "  } },\n",
    "         { \"$unwind\" : \"$courses\" },\n",
    "         { \"$sortByCount\" : \"$courses.level\" }\n",
    "])\n",
    "\n",
    "print_cursor(cursor)"
   ]
  },
  {
   "cell_type": "code",
   "execution_count": 20,
   "metadata": {
    "scrolled": true
   },
   "outputs": [
    {
     "name": "stdout",
     "output_type": "stream",
     "text": [
      "{'students': {'year': 2017, 'number': 21715}}\n"
     ]
    }
   ],
   "source": [
    "cursor = db.universities.aggregate([\n",
    "  { \"$match\" : { \"name\" : \"USAL\" } },\n",
    "  { \"$lookup\" : {\n",
    "      \"from\" : \"courses\",\n",
    "      \"localField\" : \"name\",\n",
    "      \"foreignField\" : \"university\",\n",
    "      \"as\" : \"courses\"\n",
    "  } },\n",
    "         { \"$unwind\" : \"$students\" },\n",
    "         { \"$project\" : { \"_id\" : 0, \"students\" : 1 } },\n",
    "         { \"$sort\" : { \"students.number\" : 1 } },\n",
    "         { \"$limit\" : 1 }\n",
    "])\n",
    "\n",
    "print_cursor(cursor)"
   ]
  },
  {
   "cell_type": "code",
   "execution_count": 21,
   "metadata": {
    "scrolled": true
   },
   "outputs": [
    {
     "name": "stdout",
     "output_type": "stream",
     "text": [
      "{'countingLevels': [{'_id': 'Excellent', 'count': 2}, {'_id': 'Intermediate', 'count': 1}], 'yearWithLessStudents': [{'students': {'year': 2017, 'number': 21715}}]}\n"
     ]
    }
   ],
   "source": [
    "cursor = db.universities.aggregate([\n",
    "  { \"$match\" : { \"name\" : \"USAL\" } },\n",
    "  { \"$lookup\" : {\n",
    "      \"from\" : \"courses\",\n",
    "      \"localField\" : \"name\",\n",
    "      \"foreignField\" : \"university\",\n",
    "      \"as\" : \"courses\"\n",
    "  } },\n",
    "  { \"$facet\" : {\n",
    "      \"countingLevels\" :\n",
    "      [\n",
    "         { \"$unwind\" : \"$courses\" },\n",
    "         { \"$sortByCount\" : \"$courses.level\" }\n",
    "      ],\n",
    "      \"yearWithLessStudents\" :\n",
    "      [\n",
    "         { \"$unwind\" : \"$students\" },\n",
    "         { \"$project\" : { \"_id\" : 0, \"students\" : 1 } },\n",
    "         { \"$sort\" : { \"students.number\" : 1 } },\n",
    "         { \"$limit\" : 1 }\n",
    "      ]\n",
    "  } }\n",
    "])\n",
    "\n",
    "print_cursor(cursor)"
   ]
  },
  {
   "cell_type": "markdown",
   "metadata": {},
   "source": [
    "# Dataset 2"
   ]
  },
  {
   "cell_type": "markdown",
   "metadata": {},
   "source": [
    "Use `mongoimport` to load http://media.mongodb.org/zips.json into your mongod instance.\n"
   ]
  },
  {
   "cell_type": "code",
   "execution_count": 22,
   "metadata": {},
   "outputs": [],
   "source": [
    "db = client.zips"
   ]
  },
  {
   "cell_type": "code",
   "execution_count": 23,
   "metadata": {},
   "outputs": [
    {
     "name": "stdout",
     "output_type": "stream",
     "text": [
      "{'_id': '47906', 'city': 'WEST LAFAYETTE', 'loc': [-86.923661, 40.444025], 'pop': 54702, 'state': 'IN'}\n"
     ]
    }
   ],
   "source": [
    "cursor = db.zipcodes.find({\"_id\" : \"47906\"})\n",
    "print_cursor(cursor)"
   ]
  },
  {
   "cell_type": "markdown",
   "metadata": {},
   "source": [
    "# Aggregation Pipeline"
   ]
  },
  {
   "cell_type": "markdown",
   "metadata": {},
   "source": [
    "### Return States with Populations above 10 Million"
   ]
  },
  {
   "cell_type": "markdown",
   "metadata": {},
   "source": [
    "`SELECT state, SUM(pop) AS totalPop\n",
    "FROM zipcodes\n",
    "GROUP BY state\n",
    "HAVING totalPop >= (10*1000*1000)`"
   ]
  },
  {
   "cell_type": "code",
   "execution_count": 24,
   "metadata": {},
   "outputs": [
    {
     "name": "stdout",
     "output_type": "stream",
     "text": [
      "{'_id': 'TX', 'totalPop': 16984601}\n",
      "{'_id': 'CA', 'totalPop': 29754890}\n",
      "{'_id': 'NY', 'totalPop': 17990402}\n",
      "{'_id': 'OH', 'totalPop': 10846517}\n",
      "{'_id': 'IL', 'totalPop': 11427576}\n",
      "{'_id': 'FL', 'totalPop': 12686644}\n",
      "{'_id': 'PA', 'totalPop': 11881643}\n"
     ]
    }
   ],
   "source": [
    "cursor = db.zipcodes.aggregate( [\n",
    "   { \"$group\": { \"_id\": \"$state\", \"totalPop\": { \"$sum\": \"$pop\" } } },\n",
    "   { \"$match\": { \"totalPop\": { \"$gte\": 10*1000*1000 } } }\n",
    "] )\n",
    "\n",
    "print_cursor(cursor)"
   ]
  },
  {
   "cell_type": "markdown",
   "metadata": {},
   "source": [
    "### Return Average City Population by State"
   ]
  },
  {
   "cell_type": "code",
   "execution_count": 25,
   "metadata": {},
   "outputs": [
    {
     "name": "stdout",
     "output_type": "stream",
     "text": [
      "{'_id': 'PA', 'avgCityPop': 8679.067202337472}\n",
      "{'_id': 'OK', 'avgCityPop': 6155.743639921722}\n",
      "{'_id': 'MS', 'avgCityPop': 7524.023391812865}\n",
      "{'_id': 'VA', 'avgCityPop': 8526.177931034483}\n",
      "{'_id': 'NC', 'avgCityPop': 10622.815705128205}\n",
      "{'_id': 'LA', 'avgCityPop': 10465.496277915632}\n",
      "{'_id': 'SD', 'avgCityPop': 1839.6746031746031}\n",
      "{'_id': 'OR', 'avgCityPop': 8262.561046511628}\n",
      "{'_id': 'NM', 'avgCityPop': 5872.360465116279}\n",
      "{'_id': 'AK', 'avgCityPop': 2976.4918032786886}\n",
      "{'_id': 'TN', 'avgCityPop': 9656.350495049504}\n",
      "{'_id': 'VT', 'avgCityPop': 2315.8765432098767}\n",
      "{'_id': 'DE', 'avgCityPop': 14481.91304347826}\n",
      "{'_id': 'NV', 'avgCityPop': 18209.590909090908}\n",
      "{'_id': 'TX', 'avgCityPop': 13775.02108678021}\n",
      "{'_id': 'WV', 'avgCityPop': 2771.4775888717154}\n",
      "{'_id': 'MI', 'avgCityPop': 12087.512353706112}\n",
      "{'_id': 'CA', 'avgCityPop': 27756.42723880597}\n",
      "{'_id': 'NJ', 'avgCityPop': 15775.89387755102}\n",
      "{'_id': 'DC', 'avgCityPop': 303450.0}\n",
      "{'_id': 'ID', 'avgCityPop': 4320.811158798283}\n",
      "{'_id': 'IN', 'avgCityPop': 9271.130434782608}\n",
      "{'_id': 'MA', 'avgCityPop': 14855.37037037037}\n",
      "{'_id': 'KY', 'avgCityPop': 4767.164721141375}\n",
      "{'_id': 'MO', 'avgCityPop': 5672.195338512764}\n",
      "{'_id': 'AZ', 'avgCityPop': 20591.16853932584}\n",
      "{'_id': 'AL', 'avgCityPop': 7907.2152641878665}\n",
      "{'_id': 'WI', 'avgCityPop': 7323.00748502994}\n",
      "{'_id': 'WY', 'avgCityPop': 3384.5373134328356}\n",
      "{'_id': 'HI', 'avgCityPop': 15831.842857142858}\n",
      "{'_id': 'MD', 'avgCityPop': 12615.775725593667}\n",
      "{'_id': 'WA', 'avgCityPop': 12258.670025188916}\n",
      "{'_id': 'RI', 'avgCityPop': 19292.653846153848}\n",
      "{'_id': 'GA', 'avgCityPop': 11547.62210338681}\n",
      "{'_id': 'NY', 'avgCityPop': 13131.680291970803}\n",
      "{'_id': 'UT', 'avgCityPop': 9518.508287292818}\n",
      "{'_id': 'CO', 'avgCityPop': 9981.075757575758}\n",
      "{'_id': 'MT', 'avgCityPop': 2593.987012987013}\n",
      "{'_id': 'CT', 'avgCityPop': 14674.625}\n",
      "{'_id': 'NE', 'avgCityPop': 3034.882692307692}\n",
      "{'_id': 'NH', 'avgCityPop': 5232.320754716981}\n",
      "{'_id': 'MN', 'avgCityPop': 5372.21375921376}\n",
      "{'_id': 'KS', 'avgCityPop': 3819.884259259259}\n",
      "{'_id': 'OH', 'avgCityPop': 12700.839578454332}\n",
      "{'_id': 'FL', 'avgCityPop': 27400.958963282937}\n",
      "{'_id': 'SC', 'avgCityPop': 11139.626198083068}\n",
      "{'_id': 'IL', 'avgCityPop': 9954.334494773519}\n",
      "{'_id': 'ND', 'avgCityPop': 1645.0309278350514}\n",
      "{'_id': 'AR', 'avgCityPop': 4175.355239786856}\n",
      "{'_id': 'IA', 'avgCityPop': 3123.0821147356583}\n",
      "{'_id': 'ME', 'avgCityPop': 3006.4901960784314}\n"
     ]
    }
   ],
   "source": [
    "cursor = db.zipcodes.aggregate( [\n",
    "   { \"$group\": { \"_id\": { \"state\": \"$state\", \"city\": \"$city\" }, \"pop\": { \"$sum\": \"$pop\" } } },\n",
    "   { \"$group\": { \"_id\": \"$_id.state\", \"avgCityPop\": { \"$avg\": \"$pop\" } } }\n",
    "] )\n",
    "\n",
    "print_cursor(cursor)"
   ]
  },
  {
   "cell_type": "markdown",
   "metadata": {},
   "source": [
    "### Return Largest and Smallest Cities by State"
   ]
  },
  {
   "cell_type": "code",
   "execution_count": 26,
   "metadata": {},
   "outputs": [
    {
     "name": "stdout",
     "output_type": "stream",
     "text": [
      "{'biggestCity': {'name': 'PORTLAND', 'pop': 518543}, 'smallestCity': {'name': 'LYONS', 'pop': 0}, 'state': 'OR'}\n",
      "{'biggestCity': {'name': 'MIAMI', 'pop': 825232}, 'smallestCity': {'name': 'CECIL FIELD NAS', 'pop': 0}, 'state': 'FL'}\n",
      "{'biggestCity': {'name': 'SIOUX FALLS', 'pop': 102046}, 'smallestCity': {'name': 'ZEONA', 'pop': 8}, 'state': 'SD'}\n",
      "{'biggestCity': {'name': 'NEW ORLEANS', 'pop': 496937}, 'smallestCity': {'name': 'FORDOCHE', 'pop': 0}, 'state': 'LA'}\n",
      "{'biggestCity': {'name': 'VIRGINIA BEACH', 'pop': 385080}, 'smallestCity': {'name': 'WALLOPS ISLAND', 'pop': 0}, 'state': 'VA'}\n",
      "{'biggestCity': {'name': 'ALBUQUERQUE', 'pop': 449584}, 'smallestCity': {'name': 'REGINA', 'pop': 0}, 'state': 'NM'}\n",
      "{'biggestCity': {'name': 'CHARLOTTE', 'pop': 465833}, 'smallestCity': {'name': 'GLOUCESTER', 'pop': 0}, 'state': 'NC'}\n",
      "{'biggestCity': {'name': 'BURLINGTON', 'pop': 39127}, 'smallestCity': {'name': 'UNIV OF VERMONT', 'pop': 0}, 'state': 'VT'}\n",
      "{'biggestCity': {'name': 'LAS VEGAS', 'pop': 597557}, 'smallestCity': {'name': 'TUSCARORA', 'pop': 1}, 'state': 'NV'}\n",
      "{'biggestCity': {'name': 'HOUSTON', 'pop': 2095918}, 'smallestCity': {'name': 'ECLETO', 'pop': 0}, 'state': 'TX'}\n",
      "{'biggestCity': {'name': 'HUNTINGTON', 'pop': 75343}, 'smallestCity': {'name': 'MOUNT CARBON', 'pop': 0}, 'state': 'WV'}\n",
      "{'biggestCity': {'name': 'TULSA', 'pop': 389072}, 'smallestCity': {'name': 'SOUTHARD', 'pop': 8}, 'state': 'OK'}\n",
      "{'biggestCity': {'name': 'CHICAGO', 'pop': 2452177}, 'smallestCity': {'name': 'ANCONA', 'pop': 38}, 'state': 'IL'}\n",
      "{'biggestCity': {'name': 'JACKSON', 'pop': 204788}, 'smallestCity': {'name': 'CHUNKY', 'pop': 79}, 'state': 'MS'}\n",
      "{'biggestCity': {'name': 'INDIANAPOLIS', 'pop': 348868}, 'smallestCity': {'name': 'WESTPOINT', 'pop': 145}, 'state': 'IN'}\n",
      "{'biggestCity': {'name': 'BOISE', 'pop': 165522}, 'smallestCity': {'name': 'KEUTERVILLE', 'pop': 0}, 'state': 'ID'}\n",
      "{'biggestCity': {'name': 'WORCESTER', 'pop': 169856}, 'smallestCity': {'name': 'BUCKLAND', 'pop': 16}, 'state': 'MA'}\n",
      "{'biggestCity': {'name': 'WASHINGTON', 'pop': 606879}, 'smallestCity': {'name': 'PENTAGON', 'pop': 21}, 'state': 'DC'}\n",
      "{'biggestCity': {'name': 'LOS ANGELES', 'pop': 2102295}, 'smallestCity': {'name': 'OREGON HOUSE', 'pop': 0}, 'state': 'CA'}\n",
      "{'biggestCity': {'name': 'DETROIT', 'pop': 963243}, 'smallestCity': {'name': 'LELAND', 'pop': 0}, 'state': 'MI'}\n",
      "{'biggestCity': {'name': 'PHOENIX', 'pop': 890853}, 'smallestCity': {'name': 'HUALAPAI', 'pop': 2}, 'state': 'AZ'}\n",
      "{'biggestCity': {'name': 'CHEYENNE', 'pop': 70185}, 'smallestCity': {'name': 'LOST SPRINGS', 'pop': 6}, 'state': 'WY'}\n",
      "{'biggestCity': {'name': 'NEWARK', 'pop': 275572}, 'smallestCity': {'name': 'IMLAYSTOWN', 'pop': 17}, 'state': 'NJ'}\n",
      "{'biggestCity': {'name': 'SAINT LOUIS', 'pop': 397802}, 'smallestCity': {'name': 'BENDAVIS', 'pop': 44}, 'state': 'MO'}\n",
      "{'biggestCity': {'name': 'LOUISVILLE', 'pop': 288058}, 'smallestCity': {'name': 'BROWDER', 'pop': 0}, 'state': 'KY'}\n",
      "{'biggestCity': {'name': 'DENVER', 'pop': 451182}, 'smallestCity': {'name': 'CHEYENNE MTN AFB', 'pop': 0}, 'state': 'CO'}\n",
      "{'biggestCity': {'name': 'ATLANTA', 'pop': 609591}, 'smallestCity': {'name': 'FORT STEWART', 'pop': 0}, 'state': 'GA'}\n",
      "{'biggestCity': {'name': 'SEATTLE', 'pop': 520096}, 'smallestCity': {'name': 'BENGE', 'pop': 2}, 'state': 'WA'}\n",
      "{'biggestCity': {'name': 'BALTIMORE', 'pop': 733081}, 'smallestCity': {'name': 'ANNAPOLIS JUNCTI', 'pop': 32}, 'state': 'MD'}\n",
      "{'biggestCity': {'name': 'CRANSTON', 'pop': 176404}, 'smallestCity': {'name': 'CLAYVILLE', 'pop': 45}, 'state': 'RI'}\n",
      "{'biggestCity': {'name': 'MILWAUKEE', 'pop': 597324}, 'smallestCity': {'name': 'CLAM LAKE', 'pop': 2}, 'state': 'WI'}\n",
      "{'biggestCity': {'name': 'HONOLULU', 'pop': 396643}, 'smallestCity': {'name': 'NINOLE', 'pop': 0}, 'state': 'HI'}\n",
      "{'biggestCity': {'name': 'BIRMINGHAM', 'pop': 242606}, 'smallestCity': {'name': 'ALLEN', 'pop': 0}, 'state': 'AL'}\n",
      "{'biggestCity': {'name': 'OMAHA', 'pop': 358930}, 'smallestCity': {'name': 'LAKESIDE', 'pop': 5}, 'state': 'NE'}\n",
      "{'biggestCity': {'name': 'BRIDGEPORT', 'pop': 141638}, 'smallestCity': {'name': 'EAST KILLINGLY', 'pop': 25}, 'state': 'CT'}\n",
      "{'biggestCity': {'name': 'BILLINGS', 'pop': 78805}, 'smallestCity': {'name': 'MOSBY', 'pop': 7}, 'state': 'MT'}\n",
      "{'biggestCity': {'name': 'BROOKLYN', 'pop': 2300504}, 'smallestCity': {'name': 'EAST SPRINGFIELD', 'pop': 0}, 'state': 'NY'}\n",
      "{'biggestCity': {'name': 'SALT LAKE CITY', 'pop': 186346}, 'smallestCity': {'name': 'MODENA', 'pop': 9}, 'state': 'UT'}\n",
      "{'biggestCity': {'name': 'MEMPHIS', 'pop': 632837}, 'smallestCity': {'name': 'ALLRED', 'pop': 2}, 'state': 'TN'}\n",
      "{'biggestCity': {'name': 'PORTLAND', 'pop': 63268}, 'smallestCity': {'name': 'BUSTINS ISLAND', 'pop': 0}, 'state': 'ME'}\n",
      "{'biggestCity': {'name': 'WICHITA', 'pop': 295115}, 'smallestCity': {'name': 'ARNOLD', 'pop': 0}, 'state': 'KS'}\n",
      "{'biggestCity': {'name': 'ANCHORAGE', 'pop': 183987}, 'smallestCity': {'name': 'GRAYLING', 'pop': 0}, 'state': 'AK'}\n",
      "{'biggestCity': {'name': 'COLUMBIA', 'pop': 269521}, 'smallestCity': {'name': 'QUINBY', 'pop': 0}, 'state': 'SC'}\n",
      "{'biggestCity': {'name': 'MINNEAPOLIS', 'pop': 344719}, 'smallestCity': {'name': 'JOHNSON', 'pop': 12}, 'state': 'MN'}\n",
      "{'biggestCity': {'name': 'MANCHESTER', 'pop': 106452}, 'smallestCity': {'name': 'WEST NOTTINGHAM', 'pop': 27}, 'state': 'NH'}\n",
      "{'biggestCity': {'name': 'PHILADELPHIA', 'pop': 1610956}, 'smallestCity': {'name': 'HAMILTON', 'pop': 0}, 'state': 'PA'}\n",
      "{'biggestCity': {'name': 'CLEVELAND', 'pop': 536759}, 'smallestCity': {'name': 'ISLE SAINT GEORG', 'pop': 38}, 'state': 'OH'}\n",
      "{'biggestCity': {'name': 'DES MOINES', 'pop': 148155}, 'smallestCity': {'name': 'DOUDS', 'pop': 15}, 'state': 'IA'}\n",
      "{'biggestCity': {'name': 'NEWARK', 'pop': 111674}, 'smallestCity': {'name': 'BETHEL', 'pop': 108}, 'state': 'DE'}\n",
      "{'biggestCity': {'name': 'LITTLE ROCK', 'pop': 192895}, 'smallestCity': {'name': 'TOMATO', 'pop': 0}, 'state': 'AR'}\n",
      "{'biggestCity': {'name': 'GRAND FORKS', 'pop': 59527}, 'smallestCity': {'name': 'TROTTERS', 'pop': 12}, 'state': 'ND'}\n"
     ]
    }
   ],
   "source": [
    "cursor = db.zipcodes.aggregate( [\n",
    "   { \"$group\":\n",
    "      {\n",
    "        \"_id\": { \"state\": \"$state\", \"city\": \"$city\" },\n",
    "        \"pop\": { \"$sum\": \"$pop\" }\n",
    "      }\n",
    "   },\n",
    "   { \"$sort\": { \"pop\": 1 } },\n",
    "   { \"$group\":\n",
    "      {\n",
    "        \"_id\" : \"$_id.state\",\n",
    "        \"biggestCity\":  { \"$last\": \"$_id.city\" },\n",
    "        \"biggestPop\":   { \"$last\": \"$pop\" },\n",
    "        \"smallestCity\": { \"$first\": \"$_id.city\" },\n",
    "        \"smallestPop\":  { \"$first\": \"$pop\" }\n",
    "      }\n",
    "   },\n",
    "  { \"$project\":\n",
    "    { \"_id\": 0,\n",
    "      \"state\": \"$_id\",\n",
    "      \"biggestCity\":  { \"name\": \"$biggestCity\",  \"pop\": \"$biggestPop\" },\n",
    "      \"smallestCity\": { \"name\": \"$smallestCity\", \"pop\": \"$smallestPop\" }\n",
    "    }\n",
    "  }\n",
    "] )\n",
    "\n",
    "print_cursor(cursor)"
   ]
  },
  {
   "cell_type": "code",
   "execution_count": null,
   "metadata": {},
   "outputs": [],
   "source": []
  }
 ],
 "metadata": {
  "kernelspec": {
   "display_name": "Python 3",
   "language": "python",
   "name": "python3"
  },
  "language_info": {
   "codemirror_mode": {
    "name": "ipython",
    "version": 3
   },
   "file_extension": ".py",
   "mimetype": "text/x-python",
   "name": "python",
   "nbconvert_exporter": "python",
   "pygments_lexer": "ipython3",
   "version": "3.8.5"
  }
 },
 "nbformat": 4,
 "nbformat_minor": 5
}
